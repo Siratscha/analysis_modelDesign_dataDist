{
 "cells": [
  {
   "cell_type": "code",
   "execution_count": 1,
   "metadata": {},
   "outputs": [],
   "source": [
    "import pandas as pd\n",
    "import numpy as np\n",
    "import matplotlib.pyplot as plt\n",
    "import random\n",
    "import os"
   ]
  },
  {
   "attachments": {},
   "cell_type": "markdown",
   "metadata": {},
   "source": [
    "# modify csv files to follow a certain distribution and keep only relevant columns"
   ]
  },
  {
   "attachments": {},
   "cell_type": "markdown",
   "metadata": {},
   "source": [
    "## MIMIC"
   ]
  },
  {
   "cell_type": "code",
   "execution_count": 2,
   "metadata": {},
   "outputs": [],
   "source": [
    "path = r\"C:\\Users\\rankl\\Documents\\uni\\Thesis\\Development\\modelDesign_bias_CXR\\data\\MIMICCXR\\patients - metadata - pathologies.csv\"\n",
    "pathologies_metadata = pd.read_csv(path)"
   ]
  },
  {
   "attachments": {},
   "cell_type": "markdown",
   "metadata": {},
   "source": [
    "### total distributions of front X-Rays"
   ]
  },
  {
   "cell_type": "code",
   "execution_count": 3,
   "metadata": {},
   "outputs": [],
   "source": [
    "pa_ap_samples = pathologies_metadata.loc[pathologies_metadata['ViewPosition'].isin(['PA', 'AP'])]\n"
   ]
  },
  {
   "cell_type": "code",
   "execution_count": 4,
   "metadata": {},
   "outputs": [],
   "source": [
    "count_subjects_df = pa_ap_samples.loc[:, ['subject_id','study_id', 'gender', 'dicom_id','split','ViewPosition',\n",
    "            'Atelectasis',\n",
    "            'Cardiomegaly',\n",
    "            'Consolidation',\n",
    "            'Edema',\n",
    "            'Enlarged Cardiomediastinum',\n",
    "            'Fracture',\n",
    "            'Lung Lesion',\n",
    "            'Lung Opacity',\n",
    "            'No Finding',\n",
    "            'Pleural Effusion',\n",
    "            'Pleural Other',\n",
    "            'Pneumonia',\n",
    "            'Pneumothorax',\n",
    "            'Support Devices' \n",
    "            ]]"
   ]
  },
  {
   "cell_type": "code",
   "execution_count": 5,
   "metadata": {},
   "outputs": [
    {
     "data": {
      "text/plain": [
       "243149"
      ]
     },
     "execution_count": 5,
     "metadata": {},
     "output_type": "execute_result"
    }
   ],
   "source": [
    "len(count_subjects_df)"
   ]
  },
  {
   "cell_type": "code",
   "execution_count": 6,
   "metadata": {},
   "outputs": [],
   "source": [
    "# total number of females and males in the dataset by split\n",
    "#count_subjects_df.groupby(['gender','split']).agg({'subject_id': 'nunique'})\n",
    "# number of xRays by gender and split\n",
    "#count_subjects_df.groupby(['gender','split']).agg({'dicom_id': 'nunique'})"
   ]
  },
  {
   "cell_type": "code",
   "execution_count": 7,
   "metadata": {},
   "outputs": [],
   "source": [
    "labels = ['Atelectasis','Cardiomegaly','Consolidation','Edema','Enlarged Cardiomediastinum','Fracture','Lung Lesion','Lung Opacity','No Finding','Pleural Effusion','Pleural Other','Pneumonia','Pneumothorax','Support Devices']"
   ]
  },
  {
   "cell_type": "code",
   "execution_count": 8,
   "metadata": {},
   "outputs": [],
   "source": [
    "diseases_incl = ['Atelectasis', 'Cardiomegaly', 'Lung Opacity', 'Edema' , 'Pleural Effusion','Support Devices']"
   ]
  },
  {
   "attachments": {},
   "cell_type": "markdown",
   "metadata": {},
   "source": [
    "### subset of ['Edema','Cardiomegaly','Support Devices','Atelectasis','Pleural Effusion',  'Lung Opacity']"
   ]
  },
  {
   "cell_type": "code",
   "execution_count": 9,
   "metadata": {},
   "outputs": [],
   "source": [
    "#label_subset = labels\n",
    "\n",
    "label_subset = ['Edema','Cardiomegaly','Atelectasis','Lung Opacity','Pleural Effusion','Support Devices']\n",
    "#label_subset = ['Edema','Cardiomegaly','Atelectasis']\n",
    "#label_subset = ['Edema','Support Devices','Cardiomegaly']\n",
    "column_subset = ['subject_id','study_id', 'gender', 'dicom_id','split'] \n",
    "column_subset = column_subset + label_subset\n",
    "\n",
    "data_subset = count_subjects_df.loc[:,column_subset]\n",
    "test_validate = count_subjects_df.loc[count_subjects_df[\"split\"] != \"train\",column_subset]\n",
    "data_subset[label_subset] = data_subset[label_subset].applymap(lambda x: np.nan if x <= 0 else x)\n",
    "data_subset.dropna(subset=label_subset, how='all', inplace=True)\n",
    "data_subset[label_subset] = data_subset[label_subset].applymap(lambda x: 0 if np.isnan(x) else x)\n",
    "#data_subset.to_csv('total_AP_PA_ds.csv', index=False)\n"
   ]
  },
  {
   "cell_type": "code",
   "execution_count": 10,
   "metadata": {},
   "outputs": [],
   "source": [
    "data_subset_local = data_subset\n",
    "data_subset_local = data_subset_local[data_subset_local['subject_id'].astype(str).str.startswith('10')]\n",
    "#data_subset_local.to_csv('Ed_Sup_Ca_local.csv', index=False)"
   ]
  },
  {
   "cell_type": "code",
   "execution_count": 11,
   "metadata": {},
   "outputs": [],
   "source": [
    "grouped_df = data_subset.groupby(['gender','split']).agg({\n",
    "    'Edema': 'sum',\n",
    "    'Cardiomegaly': 'sum',\n",
    "    'Atelectasis': 'sum',\n",
    "    'Lung Opacity': 'sum',\n",
    "    'Pleural Effusion': 'sum',\n",
    "    'Support Devices': 'sum',\n",
    "    'dicom_id': 'count'\n",
    "}).reset_index()"
   ]
  },
  {
   "cell_type": "code",
   "execution_count": 12,
   "metadata": {},
   "outputs": [],
   "source": [
    "grouped_df.to_csv(\"grouping_split.csv\", index=False)"
   ]
  },
  {
   "attachments": {},
   "cell_type": "markdown",
   "metadata": {},
   "source": [
    "# Aggregations"
   ]
  },
  {
   "cell_type": "code",
   "execution_count": 13,
   "metadata": {},
   "outputs": [],
   "source": [
    "data = pd.read_csv(r\"C:\\Users\\rankl\\Documents\\uni\\Thesis\\Development\\modelDesign_bias_CXR\\data\\MIMICCXR\\22030000.csv\")\n",
    "#len(data_subset)"
   ]
  },
  {
   "cell_type": "code",
   "execution_count": 14,
   "metadata": {},
   "outputs": [
    {
     "data": {
      "text/html": [
       "<div>\n",
       "<style scoped>\n",
       "    .dataframe tbody tr th:only-of-type {\n",
       "        vertical-align: middle;\n",
       "    }\n",
       "\n",
       "    .dataframe tbody tr th {\n",
       "        vertical-align: top;\n",
       "    }\n",
       "\n",
       "    .dataframe thead th {\n",
       "        text-align: right;\n",
       "    }\n",
       "</style>\n",
       "<table border=\"1\" class=\"dataframe\">\n",
       "  <thead>\n",
       "    <tr style=\"text-align: right;\">\n",
       "      <th></th>\n",
       "      <th>Edema</th>\n",
       "      <th>Cardiomegaly</th>\n",
       "      <th>Atelectasis</th>\n",
       "      <th>Lung Opacity</th>\n",
       "      <th>Pleural Effusion</th>\n",
       "      <th>Support Devices</th>\n",
       "    </tr>\n",
       "    <tr>\n",
       "      <th>gender</th>\n",
       "      <th></th>\n",
       "      <th></th>\n",
       "      <th></th>\n",
       "      <th></th>\n",
       "      <th></th>\n",
       "      <th></th>\n",
       "    </tr>\n",
       "  </thead>\n",
       "  <tbody>\n",
       "    <tr>\n",
       "      <th>F</th>\n",
       "      <td>13512.0</td>\n",
       "      <td>22071.0</td>\n",
       "      <td>20760.0</td>\n",
       "      <td>23861.0</td>\n",
       "      <td>25771.0</td>\n",
       "      <td>29935.0</td>\n",
       "    </tr>\n",
       "    <tr>\n",
       "      <th>M</th>\n",
       "      <td>15817.0</td>\n",
       "      <td>25598.0</td>\n",
       "      <td>28024.0</td>\n",
       "      <td>30881.0</td>\n",
       "      <td>31943.0</td>\n",
       "      <td>43344.0</td>\n",
       "    </tr>\n",
       "  </tbody>\n",
       "</table>\n",
       "</div>"
      ],
      "text/plain": [
       "          Edema  Cardiomegaly  Atelectasis  Lung Opacity  Pleural Effusion  \\\n",
       "gender                                                                       \n",
       "F       13512.0       22071.0      20760.0       23861.0           25771.0   \n",
       "M       15817.0       25598.0      28024.0       30881.0           31943.0   \n",
       "\n",
       "        Support Devices  \n",
       "gender                   \n",
       "F               29935.0  \n",
       "M               43344.0  "
      ]
     },
     "execution_count": 14,
     "metadata": {},
     "output_type": "execute_result"
    }
   ],
   "source": [
    "def aggregate(df,labels, byGender):\n",
    "    # Initialize an empty dictionary to store the aggregation functions\n",
    "    aggregation_functions = {}\n",
    "\n",
    "    # Iterate over the columns and add them to the aggregation functions dictionary\n",
    "    for column in labels:\n",
    "        aggregation_functions[column] = 'sum'\n",
    "    if byGender:\n",
    "        # Perform the dynamic aggregation\n",
    "        result = df.groupby(['gender']).agg(aggregation_functions)\n",
    "    else:\n",
    "        result = pd.DataFrame(df.agg(aggregation_functions)).T\n",
    "\n",
    "    return result\n",
    "df_agg = aggregate(data_subset,label_subset, True)\n",
    "df_agg"
   ]
  },
  {
   "attachments": {},
   "cell_type": "markdown",
   "metadata": {},
   "source": [
    "# Label powerset"
   ]
  },
  {
   "cell_type": "code",
   "execution_count": 15,
   "metadata": {},
   "outputs": [],
   "source": [
    "ids_array = [1, 3, 5, 10, 20, 40] #,80,160,320,640,1280,2560,5120,10240\n",
    "data_subset[\"powerset\"] = data_subset.apply(lambda x: sum(val * x[col] for val, col in zip(ids_array, label_subset)), axis=1)\n"
   ]
  },
  {
   "cell_type": "code",
   "execution_count": 16,
   "metadata": {},
   "outputs": [
    {
     "data": {
      "text/plain": [
       "array([ 1.,  3.,  4.,  5.,  6.,  8.,  9., 10., 11., 13., 14., 15., 16.,\n",
       "       18., 19., 20., 21., 23., 24., 25., 26., 28., 29., 30., 31., 33.,\n",
       "       34., 35., 36., 38., 39., 40., 41., 43., 44., 45., 46., 48., 49.,\n",
       "       50., 51., 53., 54., 55., 56., 58., 59., 60., 61., 63., 64., 65.,\n",
       "       66., 68., 69., 70., 71., 73., 74., 75., 76., 78., 79.])"
      ]
     },
     "execution_count": 16,
     "metadata": {},
     "output_type": "execute_result"
    }
   ],
   "source": [
    "np.unique(data_subset['powerset'])"
   ]
  },
  {
   "cell_type": "code",
   "execution_count": 17,
   "metadata": {},
   "outputs": [],
   "source": [
    "#data_subset[1:20]"
   ]
  },
  {
   "cell_type": "code",
   "execution_count": 18,
   "metadata": {},
   "outputs": [],
   "source": [
    "pwset_list = []\n",
    "for set_id in np.unique(data_subset['powerset']):    \n",
    "    # Specify the 'powerset' set_id for which you want to retrieve column names with value 1\n",
    "\n",
    "    # Get the row corresponding to the first occurrence of set_id\n",
    "  row = data_subset.loc[data_subset['powerset'] == set_id].iloc[0]\n",
    "\n",
    "    # Filter the row to get the column names with value 1\n",
    "  column_names = row[row == 1].index.tolist()\n",
    "\n",
    "  combined_letters = [name[:2] for name in column_names if name != 'powerset']\n",
    "  pwset_list.append(combined_letters)\n",
    "  #print(set_id,combined_letters)"
   ]
  },
  {
   "cell_type": "code",
   "execution_count": 19,
   "metadata": {},
   "outputs": [
    {
     "data": {
      "image/png": "[encoded data removed]",
      "text/plain": [
       "<Figure size 720x432 with 1 Axes>"
      ]
     },
     "metadata": {
      "needs_background": "light"
     },
     "output_type": "display_data"
    }
   ],
   "source": [
    "def plot_by_powerset(df):\n",
    "    unique_values = np.unique(df['powerset'])\n",
    "\n",
    "    # Calculate the value counts for 'M' and 'F' genders\n",
    "    value_counts_m = df[df['gender'] == 'M']['powerset'].value_counts()\n",
    "    value_counts_f = df[df['gender'] == 'F']['powerset'].value_counts()\n",
    "\n",
    "    # Create an array to store the heights of the bars for 'M' and 'F'\n",
    "    bar_heights_m = [value_counts_m[value] if value in value_counts_m else 0 for value in unique_values]\n",
    "    bar_heights_f = [value_counts_f[value] if value in value_counts_f else 0 for value in unique_values]\n",
    "\n",
    "    # Set the width of the bars\n",
    "    bar_width = 0.35\n",
    "\n",
    "    fig, ax = plt.subplots(figsize=(10, 6))\n",
    "\n",
    "    # Set the x-axis ticks and corresponding labels\n",
    "    x_ticks = np.arange(len(unique_values))\n",
    "    x_ticks_strings = ['_'.join(sublist) for sublist in pwset_list] \n",
    "    plt.xticks(x_ticks, x_ticks_strings, rotation=90)\n",
    "\n",
    "\n",
    "\n",
    "    # Create the bar chart for 'M'\n",
    "    plt.bar(x_ticks - bar_width/2, bar_heights_m, width=bar_width, label='M')\n",
    "\n",
    "    # Create the bar chart for 'F'\n",
    "    plt.bar(x_ticks + bar_width/2, bar_heights_f, width=bar_width, label='F')\n",
    "\n",
    "    # Set the labels and title\n",
    "    plt.xlabel('Powerset')\n",
    "    plt.ylabel('Frequency')\n",
    "    plt.title('Frequency of Labels Appearing Together by Gender')\n",
    "\n",
    "    # Add a legend\n",
    "    plt.legend()\n",
    "\n",
    "    # Show the plot\n",
    "    plt.show()\n",
    "plot_by_powerset(data_subset)"
   ]
  },
  {
   "attachments": {},
   "cell_type": "markdown",
   "metadata": {},
   "source": [
    "# Label density"
   ]
  },
  {
   "cell_type": "code",
   "execution_count": 20,
   "metadata": {},
   "outputs": [
    {
     "name": "stdout",
     "output_type": "stream",
     "text": [
      "Label Density: Edema               0.193444\n",
      "Cardiomegaly        0.314408\n",
      "Atelectasis         0.321762\n",
      "Lung Opacity        0.361059\n",
      "Pleural Effusion    0.380662\n",
      "Support Devices     0.483323\n",
      "dtype: float64\n"
     ]
    },
    {
     "name": "stderr",
     "output_type": "stream",
     "text": [
      "C:\\Users\\rankl\\AppData\\Local\\Temp\\ipykernel_11956\\3190376666.py:4: SettingWithCopyWarning: \n",
      "A value is trying to be set on a copy of a slice from a DataFrame\n",
      "\n",
      "See the caveats in the documentation: https://pandas.pydata.org/pandas-docs/stable/user_guide/indexing.html#returning-a-view-versus-a-copy\n",
      "  labels_data.dropna( how='all', inplace=True)\n"
     ]
    }
   ],
   "source": [
    "def label_density_perLabel(df):\n",
    "    labels_data = df[label_subset]\n",
    "    labels_data.applymap(lambda x: np.nan if x <= 0 else x)\n",
    "    labels_data.dropna( how='all', inplace=True)\n",
    "    num_instances = labels_data.shape[0]\n",
    "\n",
    "    # Count the total number of labels\n",
    "    num_labels = np.sum(labels_data)\n",
    "\n",
    "    # Calculate the label density\n",
    "    label_density = num_labels / num_instances\n",
    "\n",
    "    print(\"Label Density:\", label_density)\n",
    "\n",
    "label_density_perLabel(data_subset)\n"
   ]
  },
  {
   "cell_type": "code",
   "execution_count": 21,
   "metadata": {},
   "outputs": [
    {
     "name": "stdout",
     "output_type": "stream",
     "text": [
      "0.3424430300432016\n"
     ]
    },
    {
     "name": "stderr",
     "output_type": "stream",
     "text": [
      "C:\\Users\\rankl\\AppData\\Local\\Temp\\ipykernel_11956\\1114476469.py:5: SettingWithCopyWarning: \n",
      "A value is trying to be set on a copy of a slice from a DataFrame\n",
      "\n",
      "See the caveats in the documentation: https://pandas.pydata.org/pandas-docs/stable/user_guide/indexing.html#returning-a-view-versus-a-copy\n",
      "  labels_data.dropna( how='all', inplace=True)\n"
     ]
    }
   ],
   "source": [
    "def label_density_perFormula(df):\n",
    "    # we use the formula of Tsoumakas et al. in \"A Review of Multi-Label Classification Methods\"\n",
    "    labels_data = df[label_subset]\n",
    "    labels_data.applymap(lambda x: np.nan if x <= 0 else x)\n",
    "    labels_data.dropna( how='all', inplace=True)\n",
    "\n",
    "    D = len(labels_data)\n",
    "    L = len(labels_data.columns)\n",
    "    Y_i = labels_data.sum(axis=1)\n",
    "\n",
    "    # Divide the sum of each row by the number of columns\n",
    "    summation = Y_i.div(L)\n",
    "\n",
    "    # Sum up the results for each row\n",
    "    sum_of_results = summation.sum()\n",
    "    \n",
    "    label_density = sum_of_results / D\n",
    "    # Print the sum of the results\n",
    "    print(label_density)\n",
    "label_density_perFormula(data_subset)"
   ]
  },
  {
   "attachments": {},
   "cell_type": "markdown",
   "metadata": {},
   "source": [
    "# Random oversampling"
   ]
  },
  {
   "cell_type": "code",
   "execution_count": 22,
   "metadata": {},
   "outputs": [],
   "source": [
    "def oversampling_simple(df, limit):\n",
    "    unique_values = np.unique(data_subset['powerset'])\n",
    "    result_df = df.copy()\n",
    "    for value in unique_values:\n",
    "        value_counts = df[df['powerset'] == value].value_counts()\n",
    "\n",
    "        if value_counts.size < limit:\n",
    "            samp_to_select = limit - value_counts.size\n",
    "            temp_df = df.iloc[np.random.choice(np.where(df['powerset']==value)[0],size=samp_to_select)]\n",
    "            result_df = pd.concat([result_df, temp_df], ignore_index=True)\n",
    "\n",
    "    return result_df\n",
    "\n",
    "simple_oversampled_df = oversampling_simple(data_subset,5000)"
   ]
  },
  {
   "cell_type": "code",
   "execution_count": 23,
   "metadata": {},
   "outputs": [],
   "source": [
    "def oversampling_gender(df,limit):\n",
    "    unique_values = np.unique(df['powerset'])\n",
    "    \n",
    "    result_df = df.copy()\n",
    "    gender_list = ['M','F']\n",
    "    for value in unique_values:\n",
    "# If the difference is greater than zero, it randomly selects a subset of rows from the selected rows to add to the result DataFrame `result_df`. \n",
    "# Finally, it concatenates the selected rows to the result DataFrame `result_df`. \n",
    "# This process is repeated for each unique powerset value in the input DataFrame `df`. \n",
    "# The result is an oversampled DataFrame with an equal number of rows for each unique powerset value and gender combination, up to the specified limit.\n",
    "        for gender in gender_list:\n",
    "            value_counts = df[(df['gender'] == gender) & (df['powerset'] == value)].value_counts()\n",
    "            samp_to_select = limit - value_counts.size\n",
    "            if samp_to_select < 0:\n",
    "                continue\n",
    "            temp_df = df.iloc[np.random.choice(np.where((df['powerset']==value) & (df['gender'] == gender))[0],size=samp_to_select)]\n",
    "            result_df = pd.concat([result_df, temp_df], ignore_index=True)\n",
    "    return result_df\n",
    "thorough_ovs_df = oversampling_gender(data_subset, limit=9000)"
   ]
  },
  {
   "cell_type": "code",
   "execution_count": 24,
   "metadata": {},
   "outputs": [],
   "source": [
    "#thorough_ovs_df.to_csv(\"Ed_Su_Ca_ovs_equal.csv\", index=False)\n",
    "#thorough_ovs_df = thorough_ovs_df.drop(columns=\"powerset\")"
   ]
  },
  {
   "attachments": {},
   "cell_type": "markdown",
   "metadata": {},
   "source": [
    "## Validation of oversampling"
   ]
  },
  {
   "cell_type": "code",
   "execution_count": 25,
   "metadata": {},
   "outputs": [
    {
     "name": "stderr",
     "output_type": "stream",
     "text": [
      "No artists with labels found to put in legend.  Note that artists whose label start with an underscore are ignored when legend() is called with no argument.\n"
     ]
    },
    {
     "data": {
      "image/png": "[encoded data removed]",
      "text/plain": [
       "<Figure size 720x432 with 1 Axes>"
      ]
     },
     "metadata": {
      "needs_background": "light"
     },
     "output_type": "display_data"
    }
   ],
   "source": [
    "def plot_ovs_df(df):    \n",
    "    unique_values = np.unique(df['powerset'])\n",
    "\n",
    "    # Calculate the value counts for 'M' and 'F' genders\n",
    "    value_counts = df['powerset'].value_counts()\n",
    "\n",
    "    # Create an array to store the heights of the bars\n",
    "    bar_heights = [value_counts[value] if value in value_counts else 0 for value in unique_values]\n",
    "\n",
    "    fig, ax = plt.subplots(figsize=(10, 6))\n",
    "    # Set the x-axis ticks and corresponding labels\n",
    "    x_ticks = np.arange(len(unique_values))\n",
    "    x_ticks_strings = ['_'.join(sublist) for sublist in pwset_list] \n",
    "    plt.xticks(x_ticks, x_ticks_strings, rotation=90)\n",
    "\n",
    "    # Create the bar chart for 'M'\n",
    "    plt.bar(x_ticks , bar_heights)\n",
    "\n",
    "    # Set the labels and title\n",
    "    plt.xlabel('Powerset')\n",
    "    plt.ylabel('Frequency')\n",
    "    plt.title('Frequency of Labels Appearing Together')\n",
    "\n",
    "    # Add a legend\n",
    "    plt.legend()\n",
    "\n",
    "    # Show the plot\n",
    "    plt.show()\n",
    "\n",
    "plot_ovs_df(data_subset)"
   ]
  },
  {
   "cell_type": "code",
   "execution_count": 26,
   "metadata": {},
   "outputs": [
    {
     "data": {
      "image/png": "[encoded data removed]",
      "text/plain": [
       "<Figure size 720x432 with 1 Axes>"
      ]
     },
     "metadata": {
      "needs_background": "light"
     },
     "output_type": "display_data"
    }
   ],
   "source": [
    "def plot_ovs_gender_df(df):\n",
    "    unique_values = np.unique(df['powerset'])\n",
    "\n",
    "    # Calculate the value counts for 'M' and 'F' genders\n",
    "    value_counts_m = df[df['gender'] == 'M']['powerset'].value_counts()\n",
    "    value_counts_f = df[df['gender'] == 'F']['powerset'].value_counts()\n",
    "\n",
    "    # Create an array to store the heights of the bars for 'M' and 'F'\n",
    "    bar_heights_m = [value_counts_m[value] if value in value_counts_m else 0 for value in unique_values]\n",
    "    bar_heights_f = [value_counts_f[value] if value in value_counts_f else 0 for value in unique_values]\n",
    "\n",
    "    # Set the width of the bars\n",
    "    bar_width = 0.35\n",
    "    fig, ax = plt.subplots(figsize=(10, 6))\n",
    "    # Set the x-axis ticks and corresponding labels\n",
    "    x_ticks = np.arange(len(unique_values))\n",
    "    x_ticks_strings = ['_'.join(sublist) for sublist in pwset_list] \n",
    "    plt.xticks(x_ticks, x_ticks_strings, rotation=90)\n",
    "\n",
    "    # Create the bar chart for 'M'\n",
    "    plt.bar(x_ticks - bar_width/2, bar_heights_m, width=bar_width, label='M')\n",
    "\n",
    "    # Create the bar chart for 'F'\n",
    "    plt.bar(x_ticks + bar_width/2, bar_heights_f, width=bar_width, label='F')\n",
    "\n",
    "    # Set the labels and title\n",
    "    plt.xlabel('Powerset')\n",
    "    plt.ylabel('Frequency')\n",
    "    plt.title('Frequency of Labels Appearing Together by Gender')\n",
    "\n",
    "    # Add a legend\n",
    "    plt.legend()\n",
    "\n",
    "    # Show the plot\n",
    "    plt.show()\n",
    "\n",
    "plot_ovs_gender_df(thorough_ovs_df)"
   ]
  },
  {
   "cell_type": "code",
   "execution_count": 27,
   "metadata": {},
   "outputs": [
    {
     "data": {
      "text/html": [
       "<div>\n",
       "<style scoped>\n",
       "    .dataframe tbody tr th:only-of-type {\n",
       "        vertical-align: middle;\n",
       "    }\n",
       "\n",
       "    .dataframe tbody tr th {\n",
       "        vertical-align: top;\n",
       "    }\n",
       "\n",
       "    .dataframe thead th {\n",
       "        text-align: right;\n",
       "    }\n",
       "</style>\n",
       "<table border=\"1\" class=\"dataframe\">\n",
       "  <thead>\n",
       "    <tr style=\"text-align: right;\">\n",
       "      <th></th>\n",
       "      <th>Edema</th>\n",
       "      <th>Cardiomegaly</th>\n",
       "      <th>Atelectasis</th>\n",
       "      <th>Lung Opacity</th>\n",
       "      <th>Pleural Effusion</th>\n",
       "      <th>Support Devices</th>\n",
       "    </tr>\n",
       "    <tr>\n",
       "      <th>gender</th>\n",
       "      <th></th>\n",
       "      <th></th>\n",
       "      <th></th>\n",
       "      <th></th>\n",
       "      <th></th>\n",
       "      <th></th>\n",
       "    </tr>\n",
       "  </thead>\n",
       "  <tbody>\n",
       "    <tr>\n",
       "      <th>F</th>\n",
       "      <td>288000.0</td>\n",
       "      <td>288000.0</td>\n",
       "      <td>288000.0</td>\n",
       "      <td>288000.0</td>\n",
       "      <td>288000.0</td>\n",
       "      <td>288000.0</td>\n",
       "    </tr>\n",
       "    <tr>\n",
       "      <th>M</th>\n",
       "      <td>288000.0</td>\n",
       "      <td>288000.0</td>\n",
       "      <td>288000.0</td>\n",
       "      <td>288000.0</td>\n",
       "      <td>288000.0</td>\n",
       "      <td>290076.0</td>\n",
       "    </tr>\n",
       "  </tbody>\n",
       "</table>\n",
       "</div>"
      ],
      "text/plain": [
       "           Edema  Cardiomegaly  Atelectasis  Lung Opacity  Pleural Effusion  \\\n",
       "gender                                                                        \n",
       "F       288000.0      288000.0     288000.0      288000.0          288000.0   \n",
       "M       288000.0      288000.0     288000.0      288000.0          288000.0   \n",
       "\n",
       "        Support Devices  \n",
       "gender                   \n",
       "F              288000.0  \n",
       "M              290076.0  "
      ]
     },
     "execution_count": 27,
     "metadata": {},
     "output_type": "execute_result"
    }
   ],
   "source": [
    "equal_ovs = aggregate(thorough_ovs_df,label_subset,True)\n",
    "equal_ovs\n",
    "#equal_ovs.to_csv(\"equal_ovs.csv\", index=True)"
   ]
  },
  {
   "cell_type": "code",
   "execution_count": 28,
   "metadata": {},
   "outputs": [
    {
     "name": "stderr",
     "output_type": "stream",
     "text": [
      "C:\\Users\\rankl\\AppData\\Local\\Temp\\ipykernel_11956\\1114476469.py:5: SettingWithCopyWarning: \n",
      "A value is trying to be set on a copy of a slice from a DataFrame\n",
      "\n",
      "See the caveats in the documentation: https://pandas.pydata.org/pandas-docs/stable/user_guide/indexing.html#returning-a-view-versus-a-copy\n",
      "  labels_data.dropna( how='all', inplace=True)\n"
     ]
    },
    {
     "name": "stdout",
     "output_type": "stream",
     "text": [
      "0.5073128910389796\n",
      "Label Density: Edema               0.507008\n",
      "Cardiomegaly        0.507008\n",
      "Atelectasis         0.507008\n",
      "Lung Opacity        0.507008\n",
      "Pleural Effusion    0.507008\n",
      "Support Devices     0.508836\n",
      "dtype: float64\n"
     ]
    },
    {
     "name": "stderr",
     "output_type": "stream",
     "text": [
      "C:\\Users\\rankl\\AppData\\Local\\Temp\\ipykernel_11956\\3190376666.py:4: SettingWithCopyWarning: \n",
      "A value is trying to be set on a copy of a slice from a DataFrame\n",
      "\n",
      "See the caveats in the documentation: https://pandas.pydata.org/pandas-docs/stable/user_guide/indexing.html#returning-a-view-versus-a-copy\n",
      "  labels_data.dropna( how='all', inplace=True)\n"
     ]
    }
   ],
   "source": [
    "label_density_perFormula(thorough_ovs_df)\n",
    "label_density_perLabel(thorough_ovs_df)"
   ]
  },
  {
   "cell_type": "markdown",
   "metadata": {},
   "source": [
    "# LP-ROS from \n",
    "## \"A First Approach to Deal with Imbalance in Multi-label Datasets\""
   ]
  },
  {
   "cell_type": "code",
   "execution_count": 29,
   "metadata": {},
   "outputs": [],
   "source": [
    "def add_samples(df, x, gender = None):\n",
    "    if gender is not None:\n",
    "        temp_df = df.iloc[np.random.choice(np.where(df['gender'] == gender)[0],size=x)]\n",
    "    else:\n",
    "        sampled_rows = random.choices(df.index.tolist(), k=x)\n",
    "        temp_df = df.loc[sampled_rows]\n",
    "         #temp_df = df.sample(n=x)\n",
    "    result_df = pd.concat([df, temp_df], ignore_index=True)\n",
    "    \n",
    "    return result_df"
   ]
  },
  {
   "cell_type": "code",
   "execution_count": 30,
   "metadata": {},
   "outputs": [
    {
     "name": "stdout",
     "output_type": "stream",
     "text": [
      "Total samples to add:  45484\n",
      "Total samples added: 44877\n"
     ]
    },
    {
     "data": {
      "text/html": [
       "<div>\n",
       "<style scoped>\n",
       "    .dataframe tbody tr th:only-of-type {\n",
       "        vertical-align: middle;\n",
       "    }\n",
       "\n",
       "    .dataframe tbody tr th {\n",
       "        vertical-align: top;\n",
       "    }\n",
       "\n",
       "    .dataframe thead th {\n",
       "        text-align: right;\n",
       "    }\n",
       "</style>\n",
       "<table border=\"1\" class=\"dataframe\">\n",
       "  <thead>\n",
       "    <tr style=\"text-align: right;\">\n",
       "      <th></th>\n",
       "      <th>subject_id</th>\n",
       "      <th>study_id</th>\n",
       "      <th>gender</th>\n",
       "      <th>dicom_id</th>\n",
       "      <th>split</th>\n",
       "      <th>Edema</th>\n",
       "      <th>Cardiomegaly</th>\n",
       "      <th>Atelectasis</th>\n",
       "      <th>Lung Opacity</th>\n",
       "      <th>Pleural Effusion</th>\n",
       "      <th>Support Devices</th>\n",
       "      <th>powerset</th>\n",
       "    </tr>\n",
       "  </thead>\n",
       "  <tbody>\n",
       "    <tr>\n",
       "      <th>6</th>\n",
       "      <td>10003299</td>\n",
       "      <td>50536653</td>\n",
       "      <td>F</td>\n",
       "      <td>69c64be9-ed77fb62-7fad1785-d91de463-0fbf5c4b</td>\n",
       "      <td>train</td>\n",
       "      <td>0.0</td>\n",
       "      <td>1.0</td>\n",
       "      <td>0.0</td>\n",
       "      <td>0.0</td>\n",
       "      <td>0.0</td>\n",
       "      <td>0.0</td>\n",
       "      <td>3.0</td>\n",
       "    </tr>\n",
       "    <tr>\n",
       "      <th>9</th>\n",
       "      <td>10003299</td>\n",
       "      <td>57344656</td>\n",
       "      <td>F</td>\n",
       "      <td>f5414268-e553a141-39841839-4f303c85-d94d1190</td>\n",
       "      <td>train</td>\n",
       "      <td>0.0</td>\n",
       "      <td>1.0</td>\n",
       "      <td>0.0</td>\n",
       "      <td>0.0</td>\n",
       "      <td>0.0</td>\n",
       "      <td>0.0</td>\n",
       "      <td>3.0</td>\n",
       "    </tr>\n",
       "    <tr>\n",
       "      <th>10</th>\n",
       "      <td>10004235</td>\n",
       "      <td>52379321</td>\n",
       "      <td>M</td>\n",
       "      <td>3813b9b6-88d998b4-941e767b-601ba7c1-98f61102</td>\n",
       "      <td>train</td>\n",
       "      <td>0.0</td>\n",
       "      <td>0.0</td>\n",
       "      <td>1.0</td>\n",
       "      <td>0.0</td>\n",
       "      <td>0.0</td>\n",
       "      <td>1.0</td>\n",
       "      <td>45.0</td>\n",
       "    </tr>\n",
       "    <tr>\n",
       "      <th>11</th>\n",
       "      <td>10004235</td>\n",
       "      <td>52604377</td>\n",
       "      <td>M</td>\n",
       "      <td>5b05c3da-4f8f9c06-7b8c4faf-4c12d978-6cb22b83</td>\n",
       "      <td>train</td>\n",
       "      <td>0.0</td>\n",
       "      <td>0.0</td>\n",
       "      <td>0.0</td>\n",
       "      <td>0.0</td>\n",
       "      <td>0.0</td>\n",
       "      <td>1.0</td>\n",
       "      <td>40.0</td>\n",
       "    </tr>\n",
       "    <tr>\n",
       "      <th>12</th>\n",
       "      <td>10004235</td>\n",
       "      <td>52962553</td>\n",
       "      <td>M</td>\n",
       "      <td>d71a4931-5c0832b8-ae60fd56-1e3658d3-a392959a</td>\n",
       "      <td>train</td>\n",
       "      <td>1.0</td>\n",
       "      <td>0.0</td>\n",
       "      <td>0.0</td>\n",
       "      <td>1.0</td>\n",
       "      <td>0.0</td>\n",
       "      <td>0.0</td>\n",
       "      <td>11.0</td>\n",
       "    </tr>\n",
       "    <tr>\n",
       "      <th>...</th>\n",
       "      <td>...</td>\n",
       "      <td>...</td>\n",
       "      <td>...</td>\n",
       "      <td>...</td>\n",
       "      <td>...</td>\n",
       "      <td>...</td>\n",
       "      <td>...</td>\n",
       "      <td>...</td>\n",
       "      <td>...</td>\n",
       "      <td>...</td>\n",
       "      <td>...</td>\n",
       "      <td>...</td>\n",
       "    </tr>\n",
       "    <tr>\n",
       "      <th>2401</th>\n",
       "      <td>13019601</td>\n",
       "      <td>56418536</td>\n",
       "      <td>F</td>\n",
       "      <td>3d47ab60-74f1b1d5-c00e8e16-06feaece-e0083289</td>\n",
       "      <td>train</td>\n",
       "      <td>1.0</td>\n",
       "      <td>1.0</td>\n",
       "      <td>1.0</td>\n",
       "      <td>1.0</td>\n",
       "      <td>1.0</td>\n",
       "      <td>1.0</td>\n",
       "      <td>79.0</td>\n",
       "    </tr>\n",
       "    <tr>\n",
       "      <th>2402</th>\n",
       "      <td>14916430</td>\n",
       "      <td>54194685</td>\n",
       "      <td>F</td>\n",
       "      <td>44fc0221-2fe93b1b-f9b2ff73-d567c91b-a87b161f</td>\n",
       "      <td>train</td>\n",
       "      <td>1.0</td>\n",
       "      <td>1.0</td>\n",
       "      <td>1.0</td>\n",
       "      <td>1.0</td>\n",
       "      <td>1.0</td>\n",
       "      <td>1.0</td>\n",
       "      <td>79.0</td>\n",
       "    </tr>\n",
       "    <tr>\n",
       "      <th>2403</th>\n",
       "      <td>16855505</td>\n",
       "      <td>58478603</td>\n",
       "      <td>F</td>\n",
       "      <td>4e93e479-2a4a244a-cba93c11-c7e6de63-6e3fea95</td>\n",
       "      <td>train</td>\n",
       "      <td>1.0</td>\n",
       "      <td>1.0</td>\n",
       "      <td>1.0</td>\n",
       "      <td>1.0</td>\n",
       "      <td>1.0</td>\n",
       "      <td>1.0</td>\n",
       "      <td>79.0</td>\n",
       "    </tr>\n",
       "    <tr>\n",
       "      <th>2404</th>\n",
       "      <td>14691641</td>\n",
       "      <td>50308937</td>\n",
       "      <td>M</td>\n",
       "      <td>6b0c51a2-731413e7-a41167e7-d97ab5ce-f84f7014</td>\n",
       "      <td>train</td>\n",
       "      <td>1.0</td>\n",
       "      <td>1.0</td>\n",
       "      <td>1.0</td>\n",
       "      <td>1.0</td>\n",
       "      <td>1.0</td>\n",
       "      <td>1.0</td>\n",
       "      <td>79.0</td>\n",
       "    </tr>\n",
       "    <tr>\n",
       "      <th>2405</th>\n",
       "      <td>15290047</td>\n",
       "      <td>52946240</td>\n",
       "      <td>F</td>\n",
       "      <td>d03a189e-0d26cce1-0492ebb6-9c9445af-a4ae6c65</td>\n",
       "      <td>train</td>\n",
       "      <td>1.0</td>\n",
       "      <td>1.0</td>\n",
       "      <td>1.0</td>\n",
       "      <td>1.0</td>\n",
       "      <td>1.0</td>\n",
       "      <td>1.0</td>\n",
       "      <td>79.0</td>\n",
       "    </tr>\n",
       "  </tbody>\n",
       "</table>\n",
       "<p>247222 rows × 12 columns</p>\n",
       "</div>"
      ],
      "text/plain": [
       "      subject_id  study_id gender  \\\n",
       "6       10003299  50536653      F   \n",
       "9       10003299  57344656      F   \n",
       "10      10004235  52379321      M   \n",
       "11      10004235  52604377      M   \n",
       "12      10004235  52962553      M   \n",
       "...          ...       ...    ...   \n",
       "2401    13019601  56418536      F   \n",
       "2402    14916430  54194685      F   \n",
       "2403    16855505  58478603      F   \n",
       "2404    14691641  50308937      M   \n",
       "2405    15290047  52946240      F   \n",
       "\n",
       "                                          dicom_id  split  Edema  \\\n",
       "6     69c64be9-ed77fb62-7fad1785-d91de463-0fbf5c4b  train    0.0   \n",
       "9     f5414268-e553a141-39841839-4f303c85-d94d1190  train    0.0   \n",
       "10    3813b9b6-88d998b4-941e767b-601ba7c1-98f61102  train    0.0   \n",
       "11    5b05c3da-4f8f9c06-7b8c4faf-4c12d978-6cb22b83  train    0.0   \n",
       "12    d71a4931-5c0832b8-ae60fd56-1e3658d3-a392959a  train    1.0   \n",
       "...                                            ...    ...    ...   \n",
       "2401  3d47ab60-74f1b1d5-c00e8e16-06feaece-e0083289  train    1.0   \n",
       "2402  44fc0221-2fe93b1b-f9b2ff73-d567c91b-a87b161f  train    1.0   \n",
       "2403  4e93e479-2a4a244a-cba93c11-c7e6de63-6e3fea95  train    1.0   \n",
       "2404  6b0c51a2-731413e7-a41167e7-d97ab5ce-f84f7014  train    1.0   \n",
       "2405  d03a189e-0d26cce1-0492ebb6-9c9445af-a4ae6c65  train    1.0   \n",
       "\n",
       "      Cardiomegaly  Atelectasis  Lung Opacity  Pleural Effusion  \\\n",
       "6              1.0          0.0           0.0               0.0   \n",
       "9              1.0          0.0           0.0               0.0   \n",
       "10             0.0          1.0           0.0               0.0   \n",
       "11             0.0          0.0           0.0               0.0   \n",
       "12             0.0          0.0           1.0               0.0   \n",
       "...            ...          ...           ...               ...   \n",
       "2401           1.0          1.0           1.0               1.0   \n",
       "2402           1.0          1.0           1.0               1.0   \n",
       "2403           1.0          1.0           1.0               1.0   \n",
       "2404           1.0          1.0           1.0               1.0   \n",
       "2405           1.0          1.0           1.0               1.0   \n",
       "\n",
       "      Support Devices  powerset  \n",
       "6                 0.0       3.0  \n",
       "9                 0.0       3.0  \n",
       "10                1.0      45.0  \n",
       "11                1.0      40.0  \n",
       "12                0.0      11.0  \n",
       "...               ...       ...  \n",
       "2401              1.0      79.0  \n",
       "2402              1.0      79.0  \n",
       "2403              1.0      79.0  \n",
       "2404              1.0      79.0  \n",
       "2405              1.0      79.0  \n",
       "\n",
       "[247222 rows x 12 columns]"
      ]
     },
     "execution_count": 30,
     "metadata": {},
     "output_type": "execute_result"
    }
   ],
   "source": [
    "def lp_ros(D, size_increasing):\n",
    "    increment =  int(len(D) * size_increasing)\n",
    "    print(\"Total samples to add: \",increment)\n",
    "    unique_values = np.unique(D['powerset'])\n",
    "    labelset_Bag = []\n",
    "    for value in unique_values:\n",
    "        powerset = D.loc[D['powerset'] ==value]\n",
    "        labelset_Bag.append((powerset,value))\n",
    "\n",
    "    meanSize = sum(D['powerset'].value_counts()) / len(unique_values)  \n",
    "    \n",
    "    minBag = []\n",
    "\n",
    "    for labelset,powerset in labelset_Bag:\n",
    "        if len(labelset) < meanSize:\n",
    "            minBag.append((labelset,powerset))\n",
    "            # if powerset greater meanSize drop this powerset and append it at the end, after\n",
    "            # its size has been increased\n",
    "            \n",
    "\n",
    "\n",
    "    meanIncrement = increment/len(minBag)\n",
    "    minBag.sort(key=lambda df: len(df), reverse=True)\n",
    "    total_samples_inc = 0\n",
    "    for i,(minSet,powerset) in enumerate(minBag):\n",
    "        #if total_samples_inc >= increment:\n",
    "        #    break\n",
    "        length = len(minSet)\n",
    "        incrementBag = int(min(abs(len(minSet)-meanSize),meanIncrement))\n",
    "        remainder = int(meanIncrement - incrementBag)\n",
    "        # distribute among Bags könnte meinen die meanReduction für die nachfolgenden Bags zu erhöhen;\n",
    "        # gleichverteilt auf die verbleibenden Klassen \n",
    "        # print(gender, \"- samples deleted: \", reductionBag)\n",
    "        total_samples_inc += incrementBag\n",
    "        #D = D.drop(D[D['powerset'] == powerset].index)\n",
    "        minSet = add_samples(minSet,incrementBag)\n",
    "        D = pd.concat([D, minSet])\n",
    "        \n",
    "        num_remaining_cl = ((len(minBag)-1)-i)\n",
    "        if num_remaining_cl > 0:\n",
    "            meanIncrement += remainder/num_remaining_cl\n",
    "    print(\"Total samples added:\", total_samples_inc)\n",
    "    return D\n",
    "lp_ros(data_subset, 0.3)"
   ]
  },
  {
   "attachments": {},
   "cell_type": "markdown",
   "metadata": {},
   "source": [
    "# LP-ROS:\n",
    "## considering gender"
   ]
  },
  {
   "cell_type": "code",
   "execution_count": 31,
   "metadata": {},
   "outputs": [
    {
     "data": {
      "text/plain": [
       "{'M': 19998, 'F': 25485}"
      ]
     },
     "execution_count": 31,
     "metadata": {},
     "output_type": "execute_result"
    }
   ],
   "source": [
    "def det_ovs_num_samples_gender(dataset, size_increasing):\n",
    "    num_fem_samples = dataset.loc[dataset['gender'] == 'F'].value_counts().size\n",
    "\n",
    "    \n",
    "    # Determine the number of samples to increase\n",
    "    increasing_count = int((len(dataset) * size_increasing) - len(dataset))\n",
    "    \n",
    "    female_ratio = num_fem_samples / len(dataset)\n",
    "    \n",
    "    # Calculate the desired number of removed samples for each gender\n",
    "    male_increasing = int(increasing_count * female_ratio )\n",
    "    female_increasing = int(increasing_count * (1- female_ratio))\n",
    "    increments = {'M':male_increasing,'F':female_increasing}\n",
    "    return increments\n",
    "\n",
    "det_ovs_num_samples_gender(data_subset, 1.3)"
   ]
  },
  {
   "cell_type": "code",
   "execution_count": 32,
   "metadata": {},
   "outputs": [
    {
     "name": "stdout",
     "output_type": "stream",
     "text": [
      "Total samples to add: Male - 6665 , Female -  8495\n",
      "sth\n",
      "sth\n",
      "Total samples added: {'M': 6658, 'F': 8479}\n"
     ]
    },
    {
     "data": {
      "text/html": [
       "<div>\n",
       "<style scoped>\n",
       "    .dataframe tbody tr th:only-of-type {\n",
       "        vertical-align: middle;\n",
       "    }\n",
       "\n",
       "    .dataframe tbody tr th {\n",
       "        vertical-align: top;\n",
       "    }\n",
       "\n",
       "    .dataframe thead th {\n",
       "        text-align: right;\n",
       "    }\n",
       "</style>\n",
       "<table border=\"1\" class=\"dataframe\">\n",
       "  <thead>\n",
       "    <tr style=\"text-align: right;\">\n",
       "      <th></th>\n",
       "      <th>subject_id</th>\n",
       "      <th>study_id</th>\n",
       "      <th>gender</th>\n",
       "      <th>dicom_id</th>\n",
       "      <th>split</th>\n",
       "      <th>Edema</th>\n",
       "      <th>Cardiomegaly</th>\n",
       "      <th>Atelectasis</th>\n",
       "      <th>Lung Opacity</th>\n",
       "      <th>Pleural Effusion</th>\n",
       "      <th>Support Devices</th>\n",
       "      <th>powerset</th>\n",
       "    </tr>\n",
       "  </thead>\n",
       "  <tbody>\n",
       "    <tr>\n",
       "      <th>6</th>\n",
       "      <td>10003299</td>\n",
       "      <td>50536653</td>\n",
       "      <td>F</td>\n",
       "      <td>69c64be9-ed77fb62-7fad1785-d91de463-0fbf5c4b</td>\n",
       "      <td>train</td>\n",
       "      <td>0.0</td>\n",
       "      <td>1.0</td>\n",
       "      <td>0.0</td>\n",
       "      <td>0.0</td>\n",
       "      <td>0.0</td>\n",
       "      <td>0.0</td>\n",
       "      <td>3.0</td>\n",
       "    </tr>\n",
       "    <tr>\n",
       "      <th>9</th>\n",
       "      <td>10003299</td>\n",
       "      <td>57344656</td>\n",
       "      <td>F</td>\n",
       "      <td>f5414268-e553a141-39841839-4f303c85-d94d1190</td>\n",
       "      <td>train</td>\n",
       "      <td>0.0</td>\n",
       "      <td>1.0</td>\n",
       "      <td>0.0</td>\n",
       "      <td>0.0</td>\n",
       "      <td>0.0</td>\n",
       "      <td>0.0</td>\n",
       "      <td>3.0</td>\n",
       "    </tr>\n",
       "    <tr>\n",
       "      <th>10</th>\n",
       "      <td>10004235</td>\n",
       "      <td>52379321</td>\n",
       "      <td>M</td>\n",
       "      <td>3813b9b6-88d998b4-941e767b-601ba7c1-98f61102</td>\n",
       "      <td>train</td>\n",
       "      <td>0.0</td>\n",
       "      <td>0.0</td>\n",
       "      <td>1.0</td>\n",
       "      <td>0.0</td>\n",
       "      <td>0.0</td>\n",
       "      <td>1.0</td>\n",
       "      <td>45.0</td>\n",
       "    </tr>\n",
       "    <tr>\n",
       "      <th>11</th>\n",
       "      <td>10004235</td>\n",
       "      <td>52604377</td>\n",
       "      <td>M</td>\n",
       "      <td>5b05c3da-4f8f9c06-7b8c4faf-4c12d978-6cb22b83</td>\n",
       "      <td>train</td>\n",
       "      <td>0.0</td>\n",
       "      <td>0.0</td>\n",
       "      <td>0.0</td>\n",
       "      <td>0.0</td>\n",
       "      <td>0.0</td>\n",
       "      <td>1.0</td>\n",
       "      <td>40.0</td>\n",
       "    </tr>\n",
       "    <tr>\n",
       "      <th>12</th>\n",
       "      <td>10004235</td>\n",
       "      <td>52962553</td>\n",
       "      <td>M</td>\n",
       "      <td>d71a4931-5c0832b8-ae60fd56-1e3658d3-a392959a</td>\n",
       "      <td>train</td>\n",
       "      <td>1.0</td>\n",
       "      <td>0.0</td>\n",
       "      <td>0.0</td>\n",
       "      <td>1.0</td>\n",
       "      <td>0.0</td>\n",
       "      <td>0.0</td>\n",
       "      <td>11.0</td>\n",
       "    </tr>\n",
       "    <tr>\n",
       "      <th>...</th>\n",
       "      <td>...</td>\n",
       "      <td>...</td>\n",
       "      <td>...</td>\n",
       "      <td>...</td>\n",
       "      <td>...</td>\n",
       "      <td>...</td>\n",
       "      <td>...</td>\n",
       "      <td>...</td>\n",
       "      <td>...</td>\n",
       "      <td>...</td>\n",
       "      <td>...</td>\n",
       "      <td>...</td>\n",
       "    </tr>\n",
       "    <tr>\n",
       "      <th>223</th>\n",
       "      <td>12406522</td>\n",
       "      <td>54266641</td>\n",
       "      <td>F</td>\n",
       "      <td>1ac43d7c-ae2996e4-ee564548-3ef01254-ef87846f</td>\n",
       "      <td>train</td>\n",
       "      <td>1.0</td>\n",
       "      <td>1.0</td>\n",
       "      <td>1.0</td>\n",
       "      <td>1.0</td>\n",
       "      <td>0.0</td>\n",
       "      <td>1.0</td>\n",
       "      <td>59.0</td>\n",
       "    </tr>\n",
       "    <tr>\n",
       "      <th>224</th>\n",
       "      <td>14450867</td>\n",
       "      <td>53752218</td>\n",
       "      <td>F</td>\n",
       "      <td>93da408d-530a04ff-14c73d9a-7cd655e8-9dbeec49</td>\n",
       "      <td>train</td>\n",
       "      <td>1.0</td>\n",
       "      <td>1.0</td>\n",
       "      <td>1.0</td>\n",
       "      <td>1.0</td>\n",
       "      <td>0.0</td>\n",
       "      <td>1.0</td>\n",
       "      <td>59.0</td>\n",
       "    </tr>\n",
       "    <tr>\n",
       "      <th>225</th>\n",
       "      <td>16973998</td>\n",
       "      <td>50009720</td>\n",
       "      <td>F</td>\n",
       "      <td>1f627737-cbfbb555-1f423e85-7045e8e5-ac96b1b6</td>\n",
       "      <td>train</td>\n",
       "      <td>1.0</td>\n",
       "      <td>1.0</td>\n",
       "      <td>1.0</td>\n",
       "      <td>1.0</td>\n",
       "      <td>0.0</td>\n",
       "      <td>1.0</td>\n",
       "      <td>59.0</td>\n",
       "    </tr>\n",
       "    <tr>\n",
       "      <th>226</th>\n",
       "      <td>16777381</td>\n",
       "      <td>54055018</td>\n",
       "      <td>F</td>\n",
       "      <td>d3aa0e14-5ef0803a-558f6a16-dbd1b36a-86a4f65d</td>\n",
       "      <td>train</td>\n",
       "      <td>1.0</td>\n",
       "      <td>1.0</td>\n",
       "      <td>1.0</td>\n",
       "      <td>1.0</td>\n",
       "      <td>0.0</td>\n",
       "      <td>1.0</td>\n",
       "      <td>59.0</td>\n",
       "    </tr>\n",
       "    <tr>\n",
       "      <th>227</th>\n",
       "      <td>14450867</td>\n",
       "      <td>53752218</td>\n",
       "      <td>F</td>\n",
       "      <td>93da408d-530a04ff-14c73d9a-7cd655e8-9dbeec49</td>\n",
       "      <td>train</td>\n",
       "      <td>1.0</td>\n",
       "      <td>1.0</td>\n",
       "      <td>1.0</td>\n",
       "      <td>1.0</td>\n",
       "      <td>0.0</td>\n",
       "      <td>1.0</td>\n",
       "      <td>59.0</td>\n",
       "    </tr>\n",
       "  </tbody>\n",
       "</table>\n",
       "<p>215834 rows × 12 columns</p>\n",
       "</div>"
      ],
      "text/plain": [
       "     subject_id  study_id gender  \\\n",
       "6      10003299  50536653      F   \n",
       "9      10003299  57344656      F   \n",
       "10     10004235  52379321      M   \n",
       "11     10004235  52604377      M   \n",
       "12     10004235  52962553      M   \n",
       "..          ...       ...    ...   \n",
       "223    12406522  54266641      F   \n",
       "224    14450867  53752218      F   \n",
       "225    16973998  50009720      F   \n",
       "226    16777381  54055018      F   \n",
       "227    14450867  53752218      F   \n",
       "\n",
       "                                         dicom_id  split  Edema  Cardiomegaly  \\\n",
       "6    69c64be9-ed77fb62-7fad1785-d91de463-0fbf5c4b  train    0.0           1.0   \n",
       "9    f5414268-e553a141-39841839-4f303c85-d94d1190  train    0.0           1.0   \n",
       "10   3813b9b6-88d998b4-941e767b-601ba7c1-98f61102  train    0.0           0.0   \n",
       "11   5b05c3da-4f8f9c06-7b8c4faf-4c12d978-6cb22b83  train    0.0           0.0   \n",
       "12   d71a4931-5c0832b8-ae60fd56-1e3658d3-a392959a  train    1.0           0.0   \n",
       "..                                            ...    ...    ...           ...   \n",
       "223  1ac43d7c-ae2996e4-ee564548-3ef01254-ef87846f  train    1.0           1.0   \n",
       "224  93da408d-530a04ff-14c73d9a-7cd655e8-9dbeec49  train    1.0           1.0   \n",
       "225  1f627737-cbfbb555-1f423e85-7045e8e5-ac96b1b6  train    1.0           1.0   \n",
       "226  d3aa0e14-5ef0803a-558f6a16-dbd1b36a-86a4f65d  train    1.0           1.0   \n",
       "227  93da408d-530a04ff-14c73d9a-7cd655e8-9dbeec49  train    1.0           1.0   \n",
       "\n",
       "     Atelectasis  Lung Opacity  Pleural Effusion  Support Devices  powerset  \n",
       "6            0.0           0.0               0.0              0.0       3.0  \n",
       "9            0.0           0.0               0.0              0.0       3.0  \n",
       "10           1.0           0.0               0.0              1.0      45.0  \n",
       "11           0.0           0.0               0.0              1.0      40.0  \n",
       "12           0.0           1.0               0.0              0.0      11.0  \n",
       "..           ...           ...               ...              ...       ...  \n",
       "223          1.0           1.0               0.0              1.0      59.0  \n",
       "224          1.0           1.0               0.0              1.0      59.0  \n",
       "225          1.0           1.0               0.0              1.0      59.0  \n",
       "226          1.0           1.0               0.0              1.0      59.0  \n",
       "227          1.0           1.0               0.0              1.0      59.0  \n",
       "\n",
       "[215834 rows x 12 columns]"
      ]
     },
     "execution_count": 32,
     "metadata": {},
     "output_type": "execute_result"
    }
   ],
   "source": [
    "def lp_ros_gender(D, size_increasing):\n",
    "    increment =  det_ovs_num_samples_gender(D, size_increasing)\n",
    "    print(\"Total samples to add: Male -\", increment['M'],\", Female - \", increment['F'])\n",
    "    unique_values = np.unique(D['powerset'])\n",
    "    labelset_Bag = []\n",
    "    meanSize = {'M':0, 'F':0}\n",
    "    #medianSize = {'M':0, 'F':0}\n",
    "    for gender in meanSize.keys():\n",
    "        value_counts = 0\n",
    "        all_sizes = []\n",
    "        for value in unique_values:\n",
    "            powerset = D.loc[(D['powerset']==value) & (D['gender'] == gender)]\n",
    "            labelset_Bag.append((powerset,value,gender))\n",
    "            value_counts += powerset.value_counts().size\n",
    "            #all_sizes.append(powerset.value_counts().size)  # Collect all sizes for the given gender and powerset\n",
    "\n",
    "        meanSize[gender] = (value_counts / len(unique_values))\n",
    "       # medianSize[gender] = sorted(all_sizes)[len(all_sizes) // 2]  # Calculate the median size\n",
    "    \n",
    "    #medianSize_flipped = {'M':medianSize['F'], 'F':medianSize['M']}\n",
    "    mean_values = sum(meanSize.values()) / len(meanSize)\n",
    "    meanSize = {key: mean_values for key in meanSize}\n",
    "    \n",
    "    minBag = []\n",
    "    bag_count = {'M':0, 'F':0}\n",
    "\n",
    "    for labelset, powerset_value, gender in labelset_Bag:\n",
    "        gender_size = meanSize[gender] # medianSize_flipped[gender]\n",
    "\n",
    "        if len(labelset) < gender_size:\n",
    "            minBag.append((labelset,powerset_value, gender))\n",
    "            bag_count[gender] += 1\n",
    "\n",
    "\n",
    "    mean_increment_per_gender = {\n",
    "        gender: increment[gender] / bag_count[gender] if bag_count[gender] != 0 else 0\n",
    "        for gender in bag_count.keys()\n",
    "    }\n",
    "\n",
    "    minBag = sorted(minBag, key=lambda tup: len(tup[0]), reverse=True)\n",
    "    #majBag.sort(key=lambda D: len(D))\n",
    "    total_samples_added = {'M':0, 'F':0}  \n",
    "    for i,(minSet,powerset_value,gender) in enumerate(minBag):\n",
    "        if bag_count['M'] ==3:\n",
    "            print(\"sth\")\n",
    "        #if total_samples_added[gender] >= increment[gender]:\n",
    "        #    break\n",
    "        gender_size = meanSize[gender] #medianSize_flipped[gender]\n",
    "        length = len(minSet)\n",
    "        incrementBag = int(min(abs(len(minSet)-gender_size),mean_increment_per_gender[gender]))\n",
    "        remainder = int(mean_increment_per_gender[gender] - incrementBag)\n",
    "        # distribute among Bags könnte meinen die meanReduction für die nachfolgenden Bags zu erhöhen;\n",
    "        # gleichverteilt auf die verbleibenden Klassen \n",
    "        # print(gender, \"- samples deleted: \", reductionBag)\n",
    "        total_samples_added[gender] += incrementBag\n",
    "        # if powerset greater meanSize drop this powerset and append it at the end, after\n",
    "        # its size has been reduced\n",
    "        #D = D.drop(D[(D['powerset'] == powerset_value) & (D['gender'] == gender)].index)\n",
    "        minSet = add_samples(minSet,incrementBag, gender)\n",
    "        D = pd.concat([D, minSet])\n",
    "        # calculate remaining classes for each gender\n",
    "        bag_count[gender]-=1 #((len(majBag)-1)-i)\n",
    "        if bag_count[gender] > 0:\n",
    "            mean_increment_per_gender[gender] += remainder/bag_count[gender]\n",
    "    print(\"Total samples added:\", total_samples_added)\n",
    "    return D\n",
    "lp_ros_gender(data_subset, 1.1)"
   ]
  },
  {
   "attachments": {},
   "cell_type": "markdown",
   "metadata": {},
   "source": [
    "# LP-RUS: \n",
    "## From \"A First Approach to Deal with Imbalance in Multi-label Datasets\""
   ]
  },
  {
   "cell_type": "code",
   "execution_count": 33,
   "metadata": {},
   "outputs": [],
   "source": [
    "def delete_samples(df, x, gender = None):\n",
    "    if gender is not None:\n",
    "        samples = df[df['gender'] == gender].sample(n=x)\n",
    "    else:\n",
    "        samples = df.sample(n=x)\n",
    "  \n",
    "    df = df.drop(samples.index)\n",
    "    return df"
   ]
  },
  {
   "cell_type": "code",
   "execution_count": 34,
   "metadata": {},
   "outputs": [],
   "source": [
    "def lp_rus(D, size_reduction):\n",
    "    samples_to_delete = int(len(D) * size_reduction)\n",
    "    print(\"Total samples to delete:\", samples_to_delete)\n",
    "    unique_values = np.unique(D['powerset'])\n",
    "    labelset_Bag = []\n",
    "    for value in unique_values:\n",
    "        powerset = D.loc[D['powerset'] ==value]\n",
    "        labelset_Bag.append((powerset,value))\n",
    "\n",
    "    meanSize = sum(D['powerset'].value_counts()) / len(unique_values)  \n",
    "    majBag = []\n",
    "    for labelset,powerset in labelset_Bag:\n",
    "        if len(labelset) > meanSize:\n",
    "            majBag.append(labelset)\n",
    "            # if powerset greater meanSize drop this powerset and append it at the end, after\n",
    "            # its size has been reduced\n",
    "            D = D.drop(D[D['powerset'] == powerset].index)\n",
    "    \n",
    "    meanReduction = samples_to_delete/len(majBag)\n",
    "    majBag.sort(key=lambda df: len(df))\n",
    "    total_samples_del = 0\n",
    "    for i,majSet in enumerate(majBag):\n",
    "        if total_samples_del >= samples_to_delete:\n",
    "            break\n",
    "        reductionBag = int(min(len(majSet)-meanSize,meanReduction))\n",
    "        remainder = meanReduction - reductionBag\n",
    "        # distribute among Bags könnte meinen die meanReduction für die nachfolgenden Bags zu erhöhen;\n",
    "        # gleichverteilt auf die verbleibenden Klassen \n",
    "        # print(\"samples deleted: \", reductionBag)\n",
    "        total_samples_del += reductionBag\n",
    "        majSet = delete_samples(majSet,reductionBag)\n",
    "        D = pd.concat([D, majSet])\n",
    "        num_remaining_cl = ((len(majBag)-1)-i)\n",
    "        if num_remaining_cl > 0:\n",
    "            meanReduction += remainder/num_remaining_cl\n",
    "    print(\"Total samples deleted:\", total_samples_del)\n",
    "    return D\n"
   ]
  },
  {
   "cell_type": "code",
   "execution_count": 35,
   "metadata": {},
   "outputs": [
    {
     "data": {
      "text/plain": [
       "'rus_01'"
      ]
     },
     "execution_count": 35,
     "metadata": {},
     "output_type": "execute_result"
    }
   ],
   "source": [
    "size_reduction = 0.1\n",
    "file_name = \"rus_\"+ str(size_reduction).replace(\".\",\"\")\n",
    "file_name"
   ]
  },
  {
   "cell_type": "code",
   "execution_count": 36,
   "metadata": {},
   "outputs": [
    {
     "name": "stdout",
     "output_type": "stream",
     "text": [
      "Total samples to delete: 14774\n"
     ]
    },
    {
     "name": "stdout",
     "output_type": "stream",
     "text": [
      "Total samples deleted: 14773\n"
     ]
    }
   ],
   "source": [
    "training_data = data_subset.loc[data_subset[\"split\"] == \"train\"]\n",
    "rest_data = data_subset.loc[data_subset[\"split\"] != \"train\"]\n",
    "size_reduction = 0.1\n",
    "rus_df = lp_rus(training_data, size_reduction)\n",
    "rus_df = pd.concat([rus_df, rest_data])\n",
    "rus_df = rus_df.drop(['powerset'],axis=1)\n",
    "file_name = \"RUS/rus_\" + str(size_reduction).replace(\".\",\"\")+\".csv\"\n",
    "\n",
    "rus_df.to_csv(file_name,index=False)"
   ]
  },
  {
   "attachments": {},
   "cell_type": "markdown",
   "metadata": {},
   "source": [
    "## LP-RUS considering gender distribution"
   ]
  },
  {
   "cell_type": "code",
   "execution_count": 37,
   "metadata": {},
   "outputs": [
    {
     "name": "stdout",
     "output_type": "stream",
     "text": [
      "The majority group is: M\n",
      "Number of occurrences: 84953\n"
     ]
    },
    {
     "data": {
      "text/plain": [
       "(0.5603205487583682, 84953, 66662, 'M', 'F')"
      ]
     },
     "execution_count": 37,
     "metadata": {},
     "output_type": "execute_result"
    }
   ],
   "source": [
    "def det_excess(dataset):\n",
    "    # schaue welche gruppe häufiger vorkommt\n",
    "    # von der Majority gruppe ziehe solange samples ab, bis die Gruppen gleichverteilt sind oder das limit erreicht wurde\n",
    "    group_counts = dataset['gender'].value_counts()\n",
    "    majority_group = group_counts.idxmax()\n",
    "    minority_group = group_counts.idxmin()\n",
    "    max_occurrences = group_counts[majority_group]\n",
    "    min_occurrences = group_counts[minority_group]\n",
    "    print(\"The majority group is:\", majority_group)\n",
    "    print(\"Number of occurrences:\", max_occurrences)\n",
    "    current_ratio = max_occurrences / dataset.shape[0]\n",
    "    return current_ratio,max_occurrences,min_occurrences, majority_group, minority_group\n",
    "\n",
    "det_excess(data_subset)"
   ]
  },
  {
   "cell_type": "code",
   "execution_count": 38,
   "metadata": {},
   "outputs": [
    {
     "name": "stdout",
     "output_type": "stream",
     "text": [
      "The majority group is: M\n",
      "Number of occurrences: 84953\n"
     ]
    },
    {
     "data": {
      "text/plain": [
       "{'M': 24307.0, 'F': 6016.0}"
      ]
     },
     "execution_count": 38,
     "metadata": {},
     "output_type": "execute_result"
    }
   ],
   "source": [
    "def det_num_samples_group(dataset, size_reduction):\n",
    "    current_ratio,max_occurrences,min_occurrences,majority_group,minority_group = det_excess(dataset)\n",
    "    \n",
    "    \n",
    "    # Determine the number of samples to remove\n",
    "    removal_count = int(len(dataset) * size_reduction)\n",
    "    difference = max_occurrences - min_occurrences\n",
    "    \n",
    "    max_removals = 0 \n",
    "    min_removals = 0\n",
    "    max_removals += difference \n",
    "    if removal_count > difference:\n",
    "        excess_difference = (removal_count - difference) / 2\n",
    "        max_removals += excess_difference \n",
    "        min_removals += excess_difference\n",
    "    \n",
    "    removals = {majority_group:max_removals,minority_group:min_removals}\n",
    "    return removals\n",
    "\n",
    "det_num_samples_group(data_subset, 0.2)"
   ]
  },
  {
   "cell_type": "code",
   "execution_count": 39,
   "metadata": {},
   "outputs": [
    {
     "name": "stdout",
     "output_type": "stream",
     "text": [
      "The majority group is: M\n",
      "Number of occurrences: 84953\n",
      "Total samples to delete: Male - 24307.0 , Female -  6016.0\n",
      "Total samples deleted: 30321\n"
     ]
    }
   ],
   "source": [
    "def lp_rus_gender(D, size_reduction):\n",
    "    removals = det_num_samples_group(D, size_reduction) #det_num_samples_gender(D, size_reduction)\n",
    "    print(\"Total samples to delete: Male -\", removals['M'],\", Female - \", removals['F'])\n",
    "    unique_values = np.unique(D['powerset'])\n",
    "    labelset_Bag = []\n",
    "    #meanSize = {'M':0, 'F':0}\n",
    "    medianSize = {'M':0, 'F':0}\n",
    "    for gender in medianSize.keys():\n",
    "        #value_counts = 0\n",
    "        all_sizes = []\n",
    "        for value in unique_values:\n",
    "            powerset = D.loc[(D['powerset']==value) & (D['gender'] == gender)]\n",
    "            labelset_Bag.append((powerset,value,gender))\n",
    "            #value_counts += powerset.value_counts().size\n",
    "            all_sizes.append(powerset.value_counts().size)  # Collect all sizes for the given gender and powerset\n",
    "\n",
    "        #meanSize[gender] = (value_counts / len(unique_values))\n",
    "        medianSize[gender] = sorted(all_sizes)[len(all_sizes) // 2]  # Calculate the median size\n",
    "    \n",
    "    medianSize_flipped = {'M':medianSize['F'], 'F':medianSize['M']}\n",
    "    #mean_values = sum(meanSize.values()) / len(meanSize)\n",
    "    #meanSize = {key: mean_values for key in meanSize}\n",
    "    \n",
    "    majBag = []\n",
    "    bag_count = {'M':0, 'F':0}\n",
    "\n",
    "    for labelset, powerset_value, gender in labelset_Bag:\n",
    "        gender_mean_size = medianSize_flipped[gender] # meanSize[gender]\n",
    "\n",
    "        if len(labelset) > gender_mean_size:\n",
    "            majBag.append((labelset, gender))\n",
    "            bag_count[gender] += 1\n",
    "            # if powerset greater meanSize drop this powerset and append it at the end, after\n",
    "            # its size has been reduced\n",
    "            D = D.drop(D[(D['powerset'] == powerset_value) & (D['gender'] == gender)].index)\n",
    "\n",
    "    mean_reduction_per_gender = {\n",
    "        gender: removals[gender] / bag_count[gender] if bag_count[gender] != 0 else 0\n",
    "        for gender in bag_count.keys()\n",
    "    }\n",
    "\n",
    "    majBag.sort(key=lambda tup: len(tup[0]))\n",
    "    #majBag.sort(key=lambda D: len(D))\n",
    "    total_samples_del = 0\n",
    "    for i,(majSet,gender) in enumerate(majBag):\n",
    "        gender_mean_size = medianSize_flipped[gender] # meanSize[gender]\n",
    "        reductionBag = int(min(len(majSet)-gender_mean_size,mean_reduction_per_gender[gender]))\n",
    "        remainder = mean_reduction_per_gender[gender] - reductionBag\n",
    "        # distribute among Bags könnte meinen die meanReduction für die nachfolgenden Bags zu erhöhen;\n",
    "        # gleichverteilt auf die verbleibenden Klassen \n",
    "        #print(gender, \"- samples deleted: \", reductionBag)\n",
    "        total_samples_del += reductionBag\n",
    "        majSet = delete_samples(majSet,reductionBag, gender)\n",
    "        D = pd.concat([D, majSet])\n",
    "        # calculate remaining classes for each gender\n",
    "        bag_count[gender]-=1 #((len(majBag)-1)-i)\n",
    "        if bag_count[gender] > 0:\n",
    "            mean_reduction_per_gender[gender] += remainder/bag_count[gender]\n",
    "    print(\"Total samples deleted:\", total_samples_del)\n",
    "    return D\n",
    "df_lp_rus_gender = lp_rus_gender(data_subset, 0.2)      "
   ]
  },
  {
   "cell_type": "code",
   "execution_count": 50,
   "metadata": {},
   "outputs": [
    {
     "name": "stdout",
     "output_type": "stream",
     "text": [
      "The majority group is: M\n",
      "Number of occurrences: 82817\n",
      "Total samples to delete: Male - 31104.5 , Female -  13219.5\n",
      "Total samples deleted: 44323\n"
     ]
    }
   ],
   "source": [
    "percentage = 0.3\n",
    "training_data = data_subset.loc[data_subset[\"split\"] == \"train\"]\n",
    "test_vaildate = data_subset.loc[data_subset[\"split\"] != \"train\"]\n",
    "df_lp_rus_gender = lp_rus_gender(training_data, percentage)   \n",
    "\n",
    "df_lp_rus_gender = pd.concat([df_lp_rus_gender, test_vaildate], ignore_index=True)\n",
    "\n",
    "df_lp_rus_gender = df_lp_rus_gender.drop(['powerset'],axis=1)\n",
    "\n",
    "file_name = \"RUS/rus_gender\" + str(percentage).replace(\".\",\"\")+\".csv\"\n",
    "\n",
    "df_lp_rus_gender.to_csv(file_name,index=False)"
   ]
  },
  {
   "cell_type": "code",
   "execution_count": 49,
   "metadata": {},
   "outputs": [
    {
     "name": "stdout",
     "output_type": "stream",
     "text": [
      "The majority group is: M\n",
      "Number of occurrences: 82817\n",
      "Total samples to delete: Male - 31104.5 , Female -  13219.5\n",
      "Total samples deleted: 44323\n"
     ]
    }
   ],
   "source": [
    "training_data = data_subset.loc[data_subset[\"split\"] == \"train\"]\n",
    "test_validate = data_subset.loc[data_subset[\"split\"] != \"train\"]\n",
    "size_reduction = 0.3\n",
    "df_lp_rus_gender = lp_rus_gender(training_data, size_reduction)  \n",
    "df_lp_rus_gender = pd.concat([df_lp_rus_gender, test_validate], ignore_index=True)\n",
    "df_lp_rus_gender = df_lp_rus_gender.drop(['powerset'],axis=1)\n",
    "file_name = \"RUS/rus_gender\" + str(size_reduction).replace(\".\",\"\")+\".csv\"\n",
    "\n",
    "rus_df.to_csv(file_name,index=False)"
   ]
  },
  {
   "cell_type": "code",
   "execution_count": 48,
   "metadata": {},
   "outputs": [
    {
     "name": "stdout",
     "output_type": "stream",
     "text": [
      "Total samples to add: Male - 6492 , Female -  8281\n",
      "sth\n",
      "sth\n",
      "Total samples added: {'M': 6468, 'F': 8268}\n"
     ]
    }
   ],
   "source": [
    "percentage = 1.1\n",
    "training_data = data_subset.loc[data_subset[\"split\"] == \"train\"]\n",
    "test_vaildate = data_subset.loc[data_subset[\"split\"] != \"train\"]\n",
    "df_lp_ros_gender = lp_ros_gender(training_data, percentage)   \n",
    "\n",
    "df_lp_ros_gender = pd.concat([df_lp_ros_gender, test_vaildate], ignore_index=True)\n",
    "\n",
    "df_lp_ros_gender = df_lp_ros_gender.drop(['powerset'],axis=1)\n",
    "\n",
    "file_name = \"ROS/ros_gender\" + str(percentage).replace(\".\",\"\")+\".csv\"\n",
    "\n",
    "df_lp_ros_gender.to_csv(file_name,index=False)"
   ]
  },
  {
   "cell_type": "code",
   "execution_count": 109,
   "metadata": {},
   "outputs": [],
   "source": [
    "#lp_ros_gender_agg = aggregate(df_lp_ros_gender,label_subset,True)\n",
    "#df_lp_ros_gender.to_csv(\"df_lp_ros_gender.csv\", index= True)\n",
    "#df_lp_rus_gender.to_csv(r\"C:\\Users\\rankl\\Documents\\uni\\Thesis\\Development\\modelDesign_bias_CXR\\df_lp_rus_gender01.csv\", sep=\"|\", index=False)"
   ]
  },
  {
   "cell_type": "code",
   "execution_count": 110,
   "metadata": {},
   "outputs": [],
   "source": [
    "# df_lp_ros_gender_equalized.csv -> lp_rus_gender(data_subset, 0.4), lp_ros_gender(df_lp_rus_gender, 2) \n",
    "#df_lp_ros_gender = df_lp_ros_gender.drop(['powerset'],axis=1)\n",
    "#df_lp_ros_gender.to_csv('df_lp_ros_gender_equalized.csv',index=False)"
   ]
  },
  {
   "cell_type": "code",
   "execution_count": 111,
   "metadata": {},
   "outputs": [
    {
     "name": "stdout",
     "output_type": "stream",
     "text": [
      "          Edema  Cardiomegaly  Atelectasis  Lung Opacity  Pleural Effusion  \\\n",
      "gender                                                                       \n",
      "F       13512.0       22071.0      20760.0       23861.0           25771.0   \n",
      "M       13362.0       20153.0      20831.0       24584.0           23684.0   \n",
      "\n",
      "        Support Devices  \n",
      "gender                   \n",
      "F               29935.0  \n",
      "M               33973.0  \n"
     ]
    },
    {
     "ename": "KeyError",
     "evalue": "'powerset'",
     "output_type": "error",
     "traceback": [
      "\u001b[1;31m---------------------------------------------------------------------------\u001b[0m",
      "\u001b[1;31mKeyError\u001b[0m                                  Traceback (most recent call last)",
      "File \u001b[1;32mc:\\Users\\rankl\\AppData\\Local\\Programs\\Python\\Python310\\lib\\site-packages\\pandas\\core\\indexes\\base.py:3621\u001b[0m, in \u001b[0;36mIndex.get_loc\u001b[1;34m(self, key, method, tolerance)\u001b[0m\n\u001b[0;32m   3620\u001b[0m \u001b[39mtry\u001b[39;00m:\n\u001b[1;32m-> 3621\u001b[0m     \u001b[39mreturn\u001b[39;00m \u001b[39mself\u001b[39;49m\u001b[39m.\u001b[39;49m_engine\u001b[39m.\u001b[39;49mget_loc(casted_key)\n\u001b[0;32m   3622\u001b[0m \u001b[39mexcept\u001b[39;00m \u001b[39mKeyError\u001b[39;00m \u001b[39mas\u001b[39;00m err:\n",
      "File \u001b[1;32mc:\\Users\\rankl\\AppData\\Local\\Programs\\Python\\Python310\\lib\\site-packages\\pandas\\_libs\\index.pyx:136\u001b[0m, in \u001b[0;36mpandas._libs.index.IndexEngine.get_loc\u001b[1;34m()\u001b[0m\n",
      "File \u001b[1;32mc:\\Users\\rankl\\AppData\\Local\\Programs\\Python\\Python310\\lib\\site-packages\\pandas\\_libs\\index.pyx:163\u001b[0m, in \u001b[0;36mpandas._libs.index.IndexEngine.get_loc\u001b[1;34m()\u001b[0m\n",
      "File \u001b[1;32mpandas\\_libs\\hashtable_class_helper.pxi:5198\u001b[0m, in \u001b[0;36mpandas._libs.hashtable.PyObjectHashTable.get_item\u001b[1;34m()\u001b[0m\n",
      "File \u001b[1;32mpandas\\_libs\\hashtable_class_helper.pxi:5206\u001b[0m, in \u001b[0;36mpandas._libs.hashtable.PyObjectHashTable.get_item\u001b[1;34m()\u001b[0m\n",
      "\u001b[1;31mKeyError\u001b[0m: 'powerset'",
      "\nThe above exception was the direct cause of the following exception:\n",
      "\u001b[1;31mKeyError\u001b[0m                                  Traceback (most recent call last)",
      "\u001b[1;32mc:\\Users\\rankl\\Documents\\uni\\Thesis\\Development\\modelDesign_bias_CXR\\data\\MIMICCXR\\distributions.ipynb Cell 59\u001b[0m in \u001b[0;36m<cell line: 10>\u001b[1;34m()\u001b[0m\n\u001b[0;32m      <a href='vscode-notebook-cell:/c%3A/Users/rankl/Documents/uni/Thesis/Development/modelDesign_bias_CXR/data/MIMICCXR/distributions.ipynb#Y110sZmlsZQ%3D%3D?line=4'>5</a>\u001b[0m \u001b[39mprint\u001b[39m(aggregate(df_lp_rus_gender,label_subset,\u001b[39mTrue\u001b[39;00m))\n\u001b[0;32m      <a href='vscode-notebook-cell:/c%3A/Users/rankl/Documents/uni/Thesis/Development/modelDesign_bias_CXR/data/MIMICCXR/distributions.ipynb#Y110sZmlsZQ%3D%3D?line=6'>7</a>\u001b[0m \u001b[39m#plot_ovs_gender_df(df_lp_ros_gender)\u001b[39;00m\n\u001b[0;32m      <a href='vscode-notebook-cell:/c%3A/Users/rankl/Documents/uni/Thesis/Development/modelDesign_bias_CXR/data/MIMICCXR/distributions.ipynb#Y110sZmlsZQ%3D%3D?line=7'>8</a>\u001b[0m \u001b[39m#plot_ovs_df(df_lp_rus)\u001b[39;00m\n\u001b[1;32m---> <a href='vscode-notebook-cell:/c%3A/Users/rankl/Documents/uni/Thesis/Development/modelDesign_bias_CXR/data/MIMICCXR/distributions.ipynb#Y110sZmlsZQ%3D%3D?line=9'>10</a>\u001b[0m plot_ovs_gender_df(df_lp_rus_gender)\n",
      "\u001b[1;32mc:\\Users\\rankl\\Documents\\uni\\Thesis\\Development\\modelDesign_bias_CXR\\data\\MIMICCXR\\distributions.ipynb Cell 59\u001b[0m in \u001b[0;36mplot_ovs_gender_df\u001b[1;34m(df)\u001b[0m\n\u001b[0;32m      <a href='vscode-notebook-cell:/c%3A/Users/rankl/Documents/uni/Thesis/Development/modelDesign_bias_CXR/data/MIMICCXR/distributions.ipynb#Y110sZmlsZQ%3D%3D?line=0'>1</a>\u001b[0m \u001b[39mdef\u001b[39;00m \u001b[39mplot_ovs_gender_df\u001b[39m(df):\n\u001b[1;32m----> <a href='vscode-notebook-cell:/c%3A/Users/rankl/Documents/uni/Thesis/Development/modelDesign_bias_CXR/data/MIMICCXR/distributions.ipynb#Y110sZmlsZQ%3D%3D?line=1'>2</a>\u001b[0m     unique_values \u001b[39m=\u001b[39m np\u001b[39m.\u001b[39munique(df[\u001b[39m'\u001b[39;49m\u001b[39mpowerset\u001b[39;49m\u001b[39m'\u001b[39;49m])\n\u001b[0;32m      <a href='vscode-notebook-cell:/c%3A/Users/rankl/Documents/uni/Thesis/Development/modelDesign_bias_CXR/data/MIMICCXR/distributions.ipynb#Y110sZmlsZQ%3D%3D?line=3'>4</a>\u001b[0m     \u001b[39m# Calculate the value counts for 'M' and 'F' genders\u001b[39;00m\n\u001b[0;32m      <a href='vscode-notebook-cell:/c%3A/Users/rankl/Documents/uni/Thesis/Development/modelDesign_bias_CXR/data/MIMICCXR/distributions.ipynb#Y110sZmlsZQ%3D%3D?line=4'>5</a>\u001b[0m     value_counts_m \u001b[39m=\u001b[39m df[df[\u001b[39m'\u001b[39m\u001b[39mgender\u001b[39m\u001b[39m'\u001b[39m] \u001b[39m==\u001b[39m \u001b[39m'\u001b[39m\u001b[39mM\u001b[39m\u001b[39m'\u001b[39m][\u001b[39m'\u001b[39m\u001b[39mpowerset\u001b[39m\u001b[39m'\u001b[39m]\u001b[39m.\u001b[39mvalue_counts()\n",
      "File \u001b[1;32mc:\\Users\\rankl\\AppData\\Local\\Programs\\Python\\Python310\\lib\\site-packages\\pandas\\core\\frame.py:3505\u001b[0m, in \u001b[0;36mDataFrame.__getitem__\u001b[1;34m(self, key)\u001b[0m\n\u001b[0;32m   3503\u001b[0m \u001b[39mif\u001b[39;00m \u001b[39mself\u001b[39m\u001b[39m.\u001b[39mcolumns\u001b[39m.\u001b[39mnlevels \u001b[39m>\u001b[39m \u001b[39m1\u001b[39m:\n\u001b[0;32m   3504\u001b[0m     \u001b[39mreturn\u001b[39;00m \u001b[39mself\u001b[39m\u001b[39m.\u001b[39m_getitem_multilevel(key)\n\u001b[1;32m-> 3505\u001b[0m indexer \u001b[39m=\u001b[39m \u001b[39mself\u001b[39;49m\u001b[39m.\u001b[39;49mcolumns\u001b[39m.\u001b[39;49mget_loc(key)\n\u001b[0;32m   3506\u001b[0m \u001b[39mif\u001b[39;00m is_integer(indexer):\n\u001b[0;32m   3507\u001b[0m     indexer \u001b[39m=\u001b[39m [indexer]\n",
      "File \u001b[1;32mc:\\Users\\rankl\\AppData\\Local\\Programs\\Python\\Python310\\lib\\site-packages\\pandas\\core\\indexes\\base.py:3623\u001b[0m, in \u001b[0;36mIndex.get_loc\u001b[1;34m(self, key, method, tolerance)\u001b[0m\n\u001b[0;32m   3621\u001b[0m     \u001b[39mreturn\u001b[39;00m \u001b[39mself\u001b[39m\u001b[39m.\u001b[39m_engine\u001b[39m.\u001b[39mget_loc(casted_key)\n\u001b[0;32m   3622\u001b[0m \u001b[39mexcept\u001b[39;00m \u001b[39mKeyError\u001b[39;00m \u001b[39mas\u001b[39;00m err:\n\u001b[1;32m-> 3623\u001b[0m     \u001b[39mraise\u001b[39;00m \u001b[39mKeyError\u001b[39;00m(key) \u001b[39mfrom\u001b[39;00m \u001b[39merr\u001b[39;00m\n\u001b[0;32m   3624\u001b[0m \u001b[39mexcept\u001b[39;00m \u001b[39mTypeError\u001b[39;00m:\n\u001b[0;32m   3625\u001b[0m     \u001b[39m# If we have a listlike key, _check_indexing_error will raise\u001b[39;00m\n\u001b[0;32m   3626\u001b[0m     \u001b[39m#  InvalidIndexError. Otherwise we fall through and re-raise\u001b[39;00m\n\u001b[0;32m   3627\u001b[0m     \u001b[39m#  the TypeError.\u001b[39;00m\n\u001b[0;32m   3628\u001b[0m     \u001b[39mself\u001b[39m\u001b[39m.\u001b[39m_check_indexing_error(key)\n",
      "\u001b[1;31mKeyError\u001b[0m: 'powerset'"
     ]
    }
   ],
   "source": [
    "#label_density_perFormula(df_lp_rus)\n",
    "#label_density_perFormula(df_lp_ros_gender)\n",
    "\n",
    "#print(aggregate(df_lp_ros_gender,label_subset,True))\n",
    "print(aggregate(df_lp_rus_gender,label_subset,True))\n",
    "\n",
    "#plot_ovs_gender_df(df_lp_ros_gender)\n",
    "#plot_ovs_df(df_lp_rus)\n",
    "\n",
    "plot_ovs_gender_df(df_lp_rus_gender)\n",
    "#plot_ovs_df(data_subset)"
   ]
  },
  {
   "attachments": {},
   "cell_type": "markdown",
   "metadata": {},
   "source": [
    "# Random undersampling with a set base"
   ]
  },
  {
   "cell_type": "code",
   "execution_count": null,
   "metadata": {},
   "outputs": [],
   "source": [
    "# Create a boolean mask to select rows where the gender is not equal to the target gender or the label is not set to 1\n",
    "def remove_full_classes(df, selected_columns, gender,columns_param):\n",
    "    df = pd.DataFrame(data=df, columns=columns_param)\n",
    "    columns_to_check = selected_columns\n",
    "    conditions = []\n",
    "    column_conditions = []\n",
    "    for column in columns_to_check:\n",
    "        if column in df.columns:\n",
    "            column_conditions.append(df[column] == 1)\n",
    "    if len(column_conditions) > 0:\n",
    "        conditions.append(pd.concat(column_conditions, axis=1).any(axis=1))\n",
    "\n",
    "    conditions.append(df['gender'] == gender)\n",
    "\n",
    "    # Create the final mask by combining the conditions using logical AND\n",
    "    mask = pd.concat(conditions, axis=1).all(axis=1)\n",
    "\n",
    "    #mask = ~((df['gender'] == gender) & (df.loc[:,labels].sum(axis=1) == labels.size)) #(df[labels].sum(axis=1) == len(labels))\n",
    "\n",
    "    df_filtered = df.loc[~mask]\n",
    "    \n",
    "    filtered_list = df_filtered.values.tolist()\n",
    "    \n",
    "    filtered_df = pd.DataFrame(filtered_list, columns=columns_param)\n",
    "    \n",
    "    return filtered_df"
   ]
  },
  {
   "cell_type": "code",
   "execution_count": null,
   "metadata": {},
   "outputs": [],
   "source": [
    "def outstanding_samples(n_samples, agg_current_sel, total_aggregation, df, columns_param, labels, label_index):\n",
    "    gender_df = ['F','M']\n",
    "    total_aggregation += agg_current_sel.values\n",
    "    labels_aggregation = aggregate(impressions_df,label_subset,True)\n",
    "    result_df = df\n",
    "    for index, sample_length in enumerate(n_samples):\n",
    "        \n",
    "        data = total_aggregation[index]\n",
    "        data2 = labels_aggregation.iloc[index].values\n",
    "\n",
    "        # get the indices of elements that are greater than the threshold\n",
    "        indices = np.where(data >= sample_length)[0]\n",
    "\n",
    "        #get indices of elements where the number of samples exceeds the total number of samples for one label\n",
    "        for sample_index, samples in enumerate(data):\n",
    "            if samples >= data2[sample_index] and sample_index >= label_index:\n",
    "                indices = np.append(indices, sample_index)\n",
    "        # multiple columns could reach the limit both are to be dropped\n",
    "        # include condition to only select columns which are greater than the current index\n",
    "        mask = indices >= label_index\n",
    "        indices = indices[mask]\n",
    "         \n",
    "        \n",
    "        selected_columns = labels[list(set(indices))]\n",
    "       \n",
    "        gender = gender_df[index]\n",
    "        result_df = remove_full_classes(result_df,selected_columns,gender, columns_param)\n",
    "\n",
    "    return total_aggregation,result_df"
   ]
  },
  {
   "cell_type": "code",
   "execution_count": null,
   "metadata": {},
   "outputs": [
    {
     "data": {
      "text/plain": [
       "array(['Atelectasis', 'Cardiomegaly', 'Consolidation', 'Edema',\n",
       "       'Enlarged Cardiomediastinum', 'Fracture', 'Lung Lesion',\n",
       "       'Lung Opacity', 'No Finding', 'Pleural Effusion', 'Pleural Other',\n",
       "       'Pneumonia', 'Pneumothorax', 'Support Devices'], dtype=object)"
      ]
     },
     "execution_count": 56,
     "metadata": {},
     "output_type": "execute_result"
    }
   ],
   "source": [
    "impressions_df = pd.read_csv(r\"C:\\Users\\rankl\\Documents\\uni\\Thesis\\Development\\modelDesign_bias_CXR\\data\\MIMICCXR\\test_df_export.csv\", delimiter= \"|\")\n",
    "labels = impressions_df.columns.values[5:19]\n",
    "labels"
   ]
  },
  {
   "cell_type": "code",
   "execution_count": null,
   "metadata": {},
   "outputs": [
    {
     "name": "stdout",
     "output_type": "stream",
     "text": [
      "Found 'M' at position 8457\n",
      "For label = Edema ,number of female samples to choose:  33000 while list has  8457 items\n",
      "For label = Edema ,number of male samples to choose:  33000 while list has  9461 items\n",
      "[8457. 3145. 1683. 1957. 3831. 1964.] [9461. 3318. 1912. 2266. 4143. 2730.]\n",
      "Found 'M' at position 10115\n",
      "For label = Cardiomegaly ,number of female samples to choose:  29855 while list has  10115 items\n",
      "For label = Cardiomegaly ,number of male samples to choose:  29682 while list has  11390 items\n",
      "[ 8457. 13260.  4047.  3699.  6385.  5063.] [ 9461. 14708.  4995.  4362.  7096.  7387.]\n",
      "Found 'M' at position 8306\n",
      "For label = Atelectasis ,number of female samples to choose:  28953 while list has  8306 items\n",
      "For label = Atelectasis ,number of male samples to choose:  28005 while list has  11064 items\n",
      "[ 8457. 13260. 12353.  6055.  9571.  7045.] [ 9461. 14708. 16059.  7569. 11244. 10407.]\n",
      "Found 'M' at position 8039\n",
      "For label = Lung Opacity ,number of female samples to choose:  26945 while list has  8039 items\n",
      "For label = Lung Opacity ,number of male samples to choose:  25431 while list has  10483 items\n",
      "[ 8457. 13260. 12353. 14094. 10983.  8565.] [ 9461. 14708. 16059. 18052. 13123. 12666.]\n",
      "Found 'M' at position 3724\n",
      "For label = Pleural Effusion ,number of female samples to choose:  22017 while list has  3724 items\n",
      "For label = Pleural Effusion ,number of male samples to choose:  19877 while list has  4462 items\n",
      "[ 8457. 13260. 12353. 14094. 14707.  9469.] [ 9461. 14708. 16059. 18052. 17585. 13872.]\n",
      "Found 'M' at position 6075\n",
      "For label = Support Devices ,number of female samples to choose:  23531 while list has  6075 items\n",
      "For label = Support Devices ,number of male samples to choose:  19128 while list has  8392 items\n"
     ]
    }
   ],
   "source": [
    "n_samples = 33000\n",
    "def select_random_rows(group):\n",
    "    n = min(n_samples, len(group))\n",
    "    return group.sample(n=n)\n",
    "\n",
    "def mod_class_distribution(distributions, data_subset, columns_param):\n",
    "    result_list = []\n",
    "    labels = data_subset.columns.values[5:19]\n",
    "   \n",
    "    for label_index, label in enumerate(labels):\n",
    "        \n",
    "        if label_index == 0:\n",
    "            fem_left = 0\n",
    "            men_left = 0\n",
    "            fem_total = fem_left\n",
    "            men_total = men_left\n",
    "\n",
    "            rows = len(data_subset[\"gender\"].unique())\n",
    "            cols = len(labels)\n",
    "\n",
    "            total_aggregation = np.zeros((rows, cols))\n",
    "        else:        \n",
    "\n",
    "            # aggregation replaces the fem_left and men_left values    \n",
    "            fem_total = aggregation[0]\n",
    "            \n",
    "            #print(\"Running number of disease labels:\\n\",fem_left)\n",
    "            men_total = aggregation[1]\n",
    "            fem_left = int(fem_total[label_index])\n",
    "            #print(\"Total number of disease labels for women:\\n\",fem_total)\n",
    "            #print(\"-----------------------------------------------\")\n",
    "            men_left = int(men_total[label_index])\n",
    "            print(fem_total, men_total)\n",
    "        \n",
    "        list_random = data_subset[data_subset[label] == 1].groupby(['gender', label]).apply(lambda x: x.sample(n=min(n_samples, len(x)))).reset_index(drop=True).values.tolist()\n",
    "\n",
    "        m_index = n_samples\n",
    "        for i in range(len(list_random)):\n",
    "            if list_random[i][2] == 'M':\n",
    "                m_index = i\n",
    "                print(\"Found 'M' at position\", i)\n",
    "                break\n",
    "\n",
    "\n",
    "        percentage_fem_disease = distributions[0][label_index]\n",
    "        num_lists_fem = int(n_samples * percentage_fem_disease ) - fem_left\n",
    "        \n",
    "        list_female = list_random[0:m_index]\n",
    "\n",
    "        percentage_male_disease = distributions[1][label_index]\n",
    "        num_lists_male = int(n_samples * percentage_male_disease ) - men_left\n",
    "        list_male = list_random[m_index:len(list_random)]\n",
    "\n",
    "        print(\"For label =\", label, \",number of female samples to choose: \",num_lists_fem, \"while list has \", len(list_female), \"items\")\n",
    "        print(\"For label =\", label, \",number of male samples to choose: \",num_lists_male, \"while list has \", len(list_male), \"items\")\n",
    "\n",
    "        if num_lists_fem <= 0:\n",
    "            selected_lists_fem = []\n",
    "        elif len(list_female) <= num_lists_fem:\n",
    "            selected_lists_fem = list_female\n",
    "        else:\n",
    "            selected_lists_fem = random.sample(list_female, num_lists_fem)\n",
    "\n",
    "        if num_lists_male <= 0:\n",
    "            selected_lists_male = []\n",
    "        elif len(list_male) <= num_lists_male:\n",
    "            selected_lists_male = list_male\n",
    "        else:\n",
    "            selected_lists_male = random.sample(list_male, num_lists_male)\n",
    "\n",
    "        ##selected_lists_fem = list_female if len(list_female) <= num_lists_fem else random.sample(list_female, num_lists_fem)\n",
    "        #selected_lists_male = list_male if num_lists_male > 0 and len(list_male) <= num_lists_male else random.sample(list_male, num_lists_male)\n",
    "\n",
    "        result_list.append(selected_lists_fem)\n",
    "        result_list.append(selected_lists_male)\n",
    "\n",
    "        #print('For Men and label = ' + label, \"this number of sample needs to be found:\", num_lists_male, 'while the length of available samples is: ', len(list_male))\n",
    "\n",
    "        data_list = selected_lists_fem + selected_lists_male\n",
    "        selected_df = pd.DataFrame(data=data_list, columns=columns_param)\n",
    "        if not selected_df.empty:\n",
    "            agg_current_sel = aggregate(selected_df,labels,True)\n",
    "       \n",
    "            aggregation, data_subset = outstanding_samples([int(n_samples * percentage_fem_disease ),int(n_samples * percentage_male_disease )], agg_current_sel,total_aggregation, data_subset, columns_param, labels, label_index)\n",
    "        else:\n",
    "            continue\n",
    " \n",
    "        \n",
    "  \n",
    "    return result_list\n",
    "\n",
    "# the distributions are equal in the default setting. Specifying a different distribution with the array of \"selections\" returns x percent of a class\n",
    "# [0.2, 0.2, 0.2, 0.2, 0.2] selects a subset of 20% of row number per class - minimizing the overall number of samples\n",
    "# [1, 0.3, 0.5, 0.5, 1] selects 100% of samples for class 1 and 5, 30% of class 2 and 50% for class 3,4\n",
    "impressions_df = pd.read_csv(r\"C:\\Users\\rankl\\Documents\\uni\\Thesis\\Development\\modelDesign_bias_CXR\\data\\MIMICCXR\\test_df_export.csv\", delimiter= \"|\")\n",
    "percent_selections = [[1, 1, 1,1,1,1,1, 1, 1,1,1,1,1,1],[1, 1, 1,1,1,1,1, 1, 1,1,1,1,1,1]]\n",
    "columns=column_subset#['subject_id','study_id', 'gender', 'dicom_id','split','Edema','Cardiomegaly','Atelectasis','Lung Opacity','Pleural Effusion','Support Devices']\n",
    "df = impressions_df.reindex(columns=columns)\n",
    "\n",
    "random_list = mod_class_distribution(percent_selections, df, columns)\n",
    "\n",
    "flat_list = [item for sublist in random_list for item in sublist]\n",
    "\n",
    "random_df = pd.DataFrame(data=flat_list, columns = columns)"
   ]
  },
  {
   "cell_type": "code",
   "execution_count": null,
   "metadata": {},
   "outputs": [],
   "source": [
    "random_df.to_csv('full_labels_lessNoFinding.csv', index=False)"
   ]
  },
  {
   "cell_type": "code",
   "execution_count": null,
   "metadata": {},
   "outputs": [
    {
     "data": {
      "text/html": [
       "<div>\n",
       "<style scoped>\n",
       "    .dataframe tbody tr th:only-of-type {\n",
       "        vertical-align: middle;\n",
       "    }\n",
       "\n",
       "    .dataframe tbody tr th {\n",
       "        vertical-align: top;\n",
       "    }\n",
       "\n",
       "    .dataframe thead th {\n",
       "        text-align: right;\n",
       "    }\n",
       "</style>\n",
       "<table border=\"1\" class=\"dataframe\">\n",
       "  <thead>\n",
       "    <tr style=\"text-align: right;\">\n",
       "      <th></th>\n",
       "      <th>Atelectasis</th>\n",
       "      <th>Cardiomegaly</th>\n",
       "      <th>Consolidation</th>\n",
       "      <th>Edema</th>\n",
       "      <th>Enlarged Cardiomediastinum</th>\n",
       "      <th>Fracture</th>\n",
       "      <th>Lung Lesion</th>\n",
       "      <th>Lung Opacity</th>\n",
       "      <th>No Finding</th>\n",
       "      <th>Pleural Effusion</th>\n",
       "      <th>Pleural Other</th>\n",
       "      <th>Pneumonia</th>\n",
       "      <th>Pneumothorax</th>\n",
       "      <th>Support Devices</th>\n",
       "    </tr>\n",
       "    <tr>\n",
       "      <th>gender</th>\n",
       "      <th></th>\n",
       "      <th></th>\n",
       "      <th></th>\n",
       "      <th></th>\n",
       "      <th></th>\n",
       "      <th></th>\n",
       "      <th></th>\n",
       "      <th></th>\n",
       "      <th></th>\n",
       "      <th></th>\n",
       "      <th></th>\n",
       "      <th></th>\n",
       "      <th></th>\n",
       "      <th></th>\n",
       "    </tr>\n",
       "  </thead>\n",
       "  <tbody>\n",
       "    <tr>\n",
       "      <th>F</th>\n",
       "      <td>12353.0</td>\n",
       "      <td>13260.0</td>\n",
       "      <td>2241.0</td>\n",
       "      <td>8457.0</td>\n",
       "      <td>1097.0</td>\n",
       "      <td>1207.0</td>\n",
       "      <td>1777.0</td>\n",
       "      <td>14094.0</td>\n",
       "      <td>39022.0</td>\n",
       "      <td>14707.0</td>\n",
       "      <td>417.0</td>\n",
       "      <td>4732.0</td>\n",
       "      <td>2476.0</td>\n",
       "      <td>15544.0</td>\n",
       "    </tr>\n",
       "    <tr>\n",
       "      <th>M</th>\n",
       "      <td>16059.0</td>\n",
       "      <td>14708.0</td>\n",
       "      <td>3091.0</td>\n",
       "      <td>9461.0</td>\n",
       "      <td>1463.0</td>\n",
       "      <td>1691.0</td>\n",
       "      <td>1991.0</td>\n",
       "      <td>18052.0</td>\n",
       "      <td>39156.0</td>\n",
       "      <td>17585.0</td>\n",
       "      <td>580.0</td>\n",
       "      <td>5999.0</td>\n",
       "      <td>3812.0</td>\n",
       "      <td>22264.0</td>\n",
       "    </tr>\n",
       "  </tbody>\n",
       "</table>\n",
       "</div>"
      ],
      "text/plain": [
       "        Atelectasis  Cardiomegaly  Consolidation   Edema  \\\n",
       "gender                                                     \n",
       "F           12353.0       13260.0         2241.0  8457.0   \n",
       "M           16059.0       14708.0         3091.0  9461.0   \n",
       "\n",
       "        Enlarged Cardiomediastinum  Fracture  Lung Lesion  Lung Opacity  \\\n",
       "gender                                                                    \n",
       "F                           1097.0    1207.0       1777.0       14094.0   \n",
       "M                           1463.0    1691.0       1991.0       18052.0   \n",
       "\n",
       "        No Finding  Pleural Effusion  Pleural Other  Pneumonia  Pneumothorax  \\\n",
       "gender                                                                         \n",
       "F          39022.0           14707.0          417.0     4732.0        2476.0   \n",
       "M          39156.0           17585.0          580.0     5999.0        3812.0   \n",
       "\n",
       "        Support Devices  \n",
       "gender                   \n",
       "F               15544.0  \n",
       "M               22264.0  "
      ]
     },
     "execution_count": 59,
     "metadata": {},
     "output_type": "execute_result"
    }
   ],
   "source": [
    "aggregate(impressions_df,labels,byGender=True)"
   ]
  },
  {
   "attachments": {},
   "cell_type": "markdown",
   "metadata": {},
   "source": [
    "## Validation"
   ]
  },
  {
   "cell_type": "code",
   "execution_count": null,
   "metadata": {},
   "outputs": [
    {
     "data": {
      "text/html": [
       "<div>\n",
       "<style scoped>\n",
       "    .dataframe tbody tr th:only-of-type {\n",
       "        vertical-align: middle;\n",
       "    }\n",
       "\n",
       "    .dataframe tbody tr th {\n",
       "        vertical-align: top;\n",
       "    }\n",
       "\n",
       "    .dataframe thead th {\n",
       "        text-align: right;\n",
       "    }\n",
       "</style>\n",
       "<table border=\"1\" class=\"dataframe\">\n",
       "  <thead>\n",
       "    <tr style=\"text-align: right;\">\n",
       "      <th></th>\n",
       "      <th>Edema</th>\n",
       "      <th>Cardiomegaly</th>\n",
       "      <th>Atelectasis</th>\n",
       "      <th>Lung Opacity</th>\n",
       "      <th>Pleural Effusion</th>\n",
       "      <th>Support Devices</th>\n",
       "    </tr>\n",
       "    <tr>\n",
       "      <th>gender</th>\n",
       "      <th></th>\n",
       "      <th></th>\n",
       "      <th></th>\n",
       "      <th></th>\n",
       "      <th></th>\n",
       "      <th></th>\n",
       "    </tr>\n",
       "  </thead>\n",
       "  <tbody>\n",
       "    <tr>\n",
       "      <th>F</th>\n",
       "      <td>8457.0</td>\n",
       "      <td>13260.0</td>\n",
       "      <td>12353.0</td>\n",
       "      <td>14094.0</td>\n",
       "      <td>14707.0</td>\n",
       "      <td>15544.0</td>\n",
       "    </tr>\n",
       "    <tr>\n",
       "      <th>M</th>\n",
       "      <td>9461.0</td>\n",
       "      <td>14708.0</td>\n",
       "      <td>16059.0</td>\n",
       "      <td>18052.0</td>\n",
       "      <td>17585.0</td>\n",
       "      <td>22264.0</td>\n",
       "    </tr>\n",
       "  </tbody>\n",
       "</table>\n",
       "</div>"
      ],
      "text/plain": [
       "         Edema  Cardiomegaly  Atelectasis  Lung Opacity  Pleural Effusion  \\\n",
       "gender                                                                      \n",
       "F       8457.0       13260.0      12353.0       14094.0           14707.0   \n",
       "M       9461.0       14708.0      16059.0       18052.0           17585.0   \n",
       "\n",
       "        Support Devices  \n",
       "gender                   \n",
       "F               15544.0  \n",
       "M               22264.0  "
      ]
     },
     "execution_count": 60,
     "metadata": {},
     "output_type": "execute_result"
    }
   ],
   "source": [
    "aggregate(random_df,label_subset,byGender=True)"
   ]
  },
  {
   "cell_type": "code",
   "execution_count": null,
   "metadata": {},
   "outputs": [
    {
     "data": {
      "text/html": [
       "<div>\n",
       "<style scoped>\n",
       "    .dataframe tbody tr th:only-of-type {\n",
       "        vertical-align: middle;\n",
       "    }\n",
       "\n",
       "    .dataframe tbody tr th {\n",
       "        vertical-align: top;\n",
       "    }\n",
       "\n",
       "    .dataframe thead th {\n",
       "        text-align: right;\n",
       "    }\n",
       "</style>\n",
       "<table border=\"1\" class=\"dataframe\">\n",
       "  <thead>\n",
       "    <tr style=\"text-align: right;\">\n",
       "      <th></th>\n",
       "      <th>Edema</th>\n",
       "      <th>Cardiomegaly</th>\n",
       "      <th>Atelectasis</th>\n",
       "      <th>Lung Opacity</th>\n",
       "      <th>Pleural Effusion</th>\n",
       "      <th>Support Devices</th>\n",
       "    </tr>\n",
       "    <tr>\n",
       "      <th>gender</th>\n",
       "      <th></th>\n",
       "      <th></th>\n",
       "      <th></th>\n",
       "      <th></th>\n",
       "      <th></th>\n",
       "      <th></th>\n",
       "    </tr>\n",
       "  </thead>\n",
       "  <tbody>\n",
       "    <tr>\n",
       "      <th>F</th>\n",
       "      <td>13512.0</td>\n",
       "      <td>22071.0</td>\n",
       "      <td>20760.0</td>\n",
       "      <td>23861.0</td>\n",
       "      <td>25771.0</td>\n",
       "      <td>29935.0</td>\n",
       "    </tr>\n",
       "    <tr>\n",
       "      <th>M</th>\n",
       "      <td>15817.0</td>\n",
       "      <td>25598.0</td>\n",
       "      <td>28024.0</td>\n",
       "      <td>30881.0</td>\n",
       "      <td>31943.0</td>\n",
       "      <td>43344.0</td>\n",
       "    </tr>\n",
       "  </tbody>\n",
       "</table>\n",
       "</div>"
      ],
      "text/plain": [
       "          Edema  Cardiomegaly  Atelectasis  Lung Opacity  Pleural Effusion  \\\n",
       "gender                                                                       \n",
       "F       13512.0       22071.0      20760.0       23861.0           25771.0   \n",
       "M       15817.0       25598.0      28024.0       30881.0           31943.0   \n",
       "\n",
       "        Support Devices  \n",
       "gender                   \n",
       "F               29935.0  \n",
       "M               43344.0  "
      ]
     },
     "execution_count": 61,
     "metadata": {},
     "output_type": "execute_result"
    }
   ],
   "source": [
    "total_subset_agg = aggregate(data_subset,label_subset,True)\n",
    "total_subset_agg"
   ]
  },
  {
   "cell_type": "code",
   "execution_count": null,
   "metadata": {},
   "outputs": [
    {
     "data": {
      "text/html": [
       "<div>\n",
       "<style scoped>\n",
       "    .dataframe tbody tr th:only-of-type {\n",
       "        vertical-align: middle;\n",
       "    }\n",
       "\n",
       "    .dataframe tbody tr th {\n",
       "        vertical-align: top;\n",
       "    }\n",
       "\n",
       "    .dataframe thead th {\n",
       "        text-align: right;\n",
       "    }\n",
       "</style>\n",
       "<table border=\"1\" class=\"dataframe\">\n",
       "  <thead>\n",
       "    <tr style=\"text-align: right;\">\n",
       "      <th></th>\n",
       "      <th>Edema</th>\n",
       "      <th>Cardiomegaly</th>\n",
       "      <th>Atelectasis</th>\n",
       "      <th>Lung Opacity</th>\n",
       "      <th>Pleural Effusion</th>\n",
       "      <th>Support Devices</th>\n",
       "    </tr>\n",
       "    <tr>\n",
       "      <th>gender</th>\n",
       "      <th></th>\n",
       "      <th></th>\n",
       "      <th></th>\n",
       "      <th></th>\n",
       "      <th></th>\n",
       "      <th></th>\n",
       "    </tr>\n",
       "  </thead>\n",
       "  <tbody>\n",
       "    <tr>\n",
       "      <th>F</th>\n",
       "      <td>20000</td>\n",
       "      <td>20000</td>\n",
       "      <td>20000</td>\n",
       "      <td>20000</td>\n",
       "      <td>20000</td>\n",
       "      <td>20000</td>\n",
       "    </tr>\n",
       "    <tr>\n",
       "      <th>M</th>\n",
       "      <td>20000</td>\n",
       "      <td>20000</td>\n",
       "      <td>20000</td>\n",
       "      <td>20000</td>\n",
       "      <td>20000</td>\n",
       "      <td>20000</td>\n",
       "    </tr>\n",
       "  </tbody>\n",
       "</table>\n",
       "</div>"
      ],
      "text/plain": [
       "        Edema  Cardiomegaly  Atelectasis  Lung Opacity  Pleural Effusion  \\\n",
       "gender                                                                     \n",
       "F       20000         20000        20000         20000             20000   \n",
       "M       20000         20000        20000         20000             20000   \n",
       "\n",
       "        Support Devices  \n",
       "gender                   \n",
       "F                 20000  \n",
       "M                 20000  "
      ]
     },
     "execution_count": 62,
     "metadata": {},
     "output_type": "execute_result"
    }
   ],
   "source": [
    "data = {'Edema': [20000, 20000],\n",
    "        'Cardiomegaly': [20000, 20000],\n",
    "        'Atelectasis': [20000, 20000],\n",
    "        'Support Devices': [20000, 20000],\n",
    "        'Pleural Effusion': [20000, 20000],\n",
    "        'Lung Opacity': [20000, 20000],\n",
    "        'gender':['F','M']}\n",
    "\n",
    "index = ['F', 'M']\n",
    "test_set = pd.DataFrame(data, index=index, columns=column_subset)\n",
    "test_set\n",
    "test_aggregation = aggregate(test_set,label_subset,True)\n",
    "test_aggregation"
   ]
  },
  {
   "attachments": {},
   "cell_type": "markdown",
   "metadata": {},
   "source": [
    "# Computation of Combined Imbalance Ratio"
   ]
  },
  {
   "cell_type": "code",
   "execution_count": null,
   "metadata": {},
   "outputs": [],
   "source": [
    "d_s_rus_03_gender = pd.read_csv(r\"C:\\Users\\rankl\\Documents\\uni\\Thesis\\Development\\modelDesign_bias_CXR\\data\\MIMICCXR\\d_s_rus_0.3_gender.csv\")\n",
    "d_s_rus_03_gender = aggregate(d_s_rus_03_gender, label_subset,byGender=True)"
   ]
  },
  {
   "cell_type": "code",
   "execution_count": null,
   "metadata": {},
   "outputs": [],
   "source": [
    "#df_results = pd.read_csv(r\"C:\\Users\\rankl\\Documents\\uni\\Thesis\\Development\\modelDesign_bias_CXR\\outputs\\densenet\\dens_data_subset.csv\")\n",
    "#df_results = pd.read_csv(r\"C:\\Users\\rankl\\Documents\\uni\\Thesis\\Development\\modelDesign_bias_CXR\\outputs\\vit\\vit_data_subset_0001.csv\")\n",
    "#df_results = pd.read_csv(r\"C:\\Users\\rankl\\Documents\\uni\\Thesis\\Development\\modelDesign_bias_CXR\\outputs\\densenet\\densenet_d_s_rus_03_gender.csv\")\n",
    "#df_results = pd.read_csv(r\"C:\\Users\\rankl\\Documents\\uni\\Thesis\\Development\\modelDesign_bias_CXR\\outputs\\densenet\\dense_lp_ros_gender_equalized.csv\")\n",
    "df_results = pd.read_csv(r\"C:\\Users\\rankl\\Documents\\uni\\Thesis\\Development\\modelDesign_bias_CXR\\outputs\\vit\\vit2_d_s_rus_03_gender.csv\")\n"
   ]
  },
  {
   "cell_type": "code",
   "execution_count": null,
   "metadata": {},
   "outputs": [
    {
     "data": {
      "text/html": [
       "<div>\n",
       "<style scoped>\n",
       "    .dataframe tbody tr th:only-of-type {\n",
       "        vertical-align: middle;\n",
       "    }\n",
       "\n",
       "    .dataframe tbody tr th {\n",
       "        vertical-align: top;\n",
       "    }\n",
       "\n",
       "    .dataframe thead th {\n",
       "        text-align: right;\n",
       "    }\n",
       "</style>\n",
       "<table border=\"1\" class=\"dataframe\">\n",
       "  <thead>\n",
       "    <tr style=\"text-align: right;\">\n",
       "      <th></th>\n",
       "      <th>Edema</th>\n",
       "      <th>Cardiomegaly</th>\n",
       "      <th>Support Devices</th>\n",
       "      <th>Atelectasis</th>\n",
       "      <th>Pleural Effusion</th>\n",
       "      <th>Lung Opacity</th>\n",
       "    </tr>\n",
       "  </thead>\n",
       "  <tbody>\n",
       "    <tr>\n",
       "      <th>0</th>\n",
       "      <td>0.744354</td>\n",
       "      <td>0.681459</td>\n",
       "      <td>0.825726</td>\n",
       "      <td>0.649347</td>\n",
       "      <td>0.856419</td>\n",
       "      <td>0.605221</td>\n",
       "    </tr>\n",
       "    <tr>\n",
       "      <th>1</th>\n",
       "      <td>0.773056</td>\n",
       "      <td>0.748295</td>\n",
       "      <td>0.851117</td>\n",
       "      <td>0.697167</td>\n",
       "      <td>0.819611</td>\n",
       "      <td>0.673324</td>\n",
       "    </tr>\n",
       "    <tr>\n",
       "      <th>2</th>\n",
       "      <td>0.003554</td>\n",
       "      <td>0.003195</td>\n",
       "      <td>0.002952</td>\n",
       "      <td>0.005462</td>\n",
       "      <td>0.001905</td>\n",
       "      <td>0.001501</td>\n",
       "    </tr>\n",
       "    <tr>\n",
       "      <th>3</th>\n",
       "      <td>0.007880</td>\n",
       "      <td>0.000383</td>\n",
       "      <td>0.003334</td>\n",
       "      <td>0.004073</td>\n",
       "      <td>0.000573</td>\n",
       "      <td>0.004771</td>\n",
       "    </tr>\n",
       "  </tbody>\n",
       "</table>\n",
       "</div>"
      ],
      "text/plain": [
       "      Edema  Cardiomegaly  Support Devices  Atelectasis  Pleural Effusion  \\\n",
       "0  0.744354      0.681459         0.825726     0.649347          0.856419   \n",
       "1  0.773056      0.748295         0.851117     0.697167          0.819611   \n",
       "2  0.003554      0.003195         0.002952     0.005462          0.001905   \n",
       "3  0.007880      0.000383         0.003334     0.004073          0.000573   \n",
       "\n",
       "   Lung Opacity  \n",
       "0      0.605221  \n",
       "1      0.673324  \n",
       "2      0.001501  \n",
       "3      0.004771  "
      ]
     },
     "execution_count": 65,
     "metadata": {},
     "output_type": "execute_result"
    }
   ],
   "source": [
    "df_results"
   ]
  },
  {
   "cell_type": "code",
   "execution_count": null,
   "metadata": {},
   "outputs": [],
   "source": [
    "d_s_rus_03_gender.to_csv(\"d_s_rus_03_gender_aggregations.csv\", index=True)"
   ]
  },
  {
   "cell_type": "code",
   "execution_count": 69,
   "metadata": {},
   "outputs": [],
   "source": [
    "def format_with_commas(num):\n",
    "    return '{:,.2f}'.format(num).replace('.', ',')"
   ]
  },
  {
   "cell_type": "code",
   "execution_count": 70,
   "metadata": {},
   "outputs": [],
   "source": [
    "def compute_IR(df):\n",
    "\n",
    "    # take an aggregated dataframe which contains the count of the labels per gender and disease and calculate the IR\n",
    "    columns = list(df.columns)\n",
    "    sum_result = []\n",
    "    column_names = []\n",
    "    for column_outer in columns[:]:\n",
    "        max_min_values = []\n",
    "        for column_inner in columns[:]:\n",
    "            if column_outer == column_inner:\n",
    "                continue\n",
    "            else:\n",
    "            # Calculate the max/min values for each combination of columns\n",
    "                max_min_values.append(df.apply(lambda x: max(x[column_inner], x[column_outer])/min(x[column_inner], x[column_outer]),\n",
    "                          axis=1).values)\n",
    "        sum_result.append([sum(elements) for elements in zip(*max_min_values)])\n",
    "                #column_names.append(column_outer[0:2] +\"_\"+ column_inner[0:2])\n",
    "                \n",
    "        #columns.pop(0) \n",
    "    df_IR_disease = pd.DataFrame(data=sum_result,index=columns, columns=df.index.values)\n",
    "\n",
    "    rows = df.index\n",
    "    ir_result = []\n",
    "\n",
    "    for column in columns[:]:\n",
    "        sum_row_result = []\n",
    "        for row_outer in rows:\n",
    "            max_min_values = []\n",
    "            for row_inner in rows:\n",
    "                if row_outer >= row_inner:\n",
    "                    continue\n",
    "                else:\n",
    "                    # Calculate the Interaction Ratio (IR) for each combination of rows\n",
    "                    #max_min_values.append(df.apply(lambda x: max(x[row_inner], x[row_outer])/min(x[row_inner], x[row_outer]),axis=1).values)\n",
    "                    outer = df.loc[row_outer, column]\n",
    "                    inner = df.loc[row_inner, column]\n",
    "                    max_min_values.append( max(df.loc[row_outer, column], df.loc[row_inner, column]) / min(df.loc[row_outer, column], df.loc[row_inner, column]) )\n",
    "            if len(max_min_values) > 0:\n",
    "                sum_row_result.append(sum(max_min_values) )\n",
    "        ir_result.append(sum(sum_row_result))\n",
    "        \n",
    "                #ir_result.append(max_min_values[0]) \n",
    "    #unique_items = set(ir_result)\n",
    "\n",
    "\n",
    "    #ir_result = list(unique_items)\n",
    "    # Create a new DataFrame with the result\n",
    "    ir_df = pd.DataFrame(ir_result, index=columns).T\n",
    "    df_IR_gender = df.max() / df.min()\n",
    "    #df_IR_gender = df_IR_gender.reindex(index=df_IR_gender.index[::-1])\n",
    "   \n",
    "    return df_IR_disease, ir_df"
   ]
  },
  {
   "cell_type": "code",
   "execution_count": 71,
   "metadata": {},
   "outputs": [],
   "source": [
    "def mmult(df): #file_name\n",
    "    df_IR_disease, df_IR_gender = compute_IR(df)\n",
    "    df_IR_disease.to_numpy()\n",
    "    df_IR_gender.to_numpy()\n",
    "    matrix_mul = np.matmul(df_IR_gender,df_IR_disease)\n",
    "    correction = (df_IR_disease.shape[0] - 1) * (df_IR_gender.shape[1]) \n",
    "    result = matrix_mul - correction\n",
    "    result_df = pd.DataFrame(result)\n",
    "    # Concatenate the DataFrames horizontally\n",
    "    combined_df = pd.concat([df_IR_disease, df_IR_gender, result_df], axis=1)\n",
    "    rounded_df = combined_df.round(6)\n",
    "    #filepath_name = os.path.join('./',file_name)\n",
    "    #rounded_df.to_csv(filepath_name, index=True)\n",
    "    #print(result)\n",
    "    formatted_df = rounded_df.applymap(format_with_commas)\n",
    "    normalized_df = result_df.copy()\n",
    "    normalized_df = normalized_df.sum(axis=1) / (len(df.columns) * len(df))\n",
    "    #print(normalized_df)\n",
    "    return df_IR_disease.applymap(format_with_commas), df_IR_gender.applymap(format_with_commas), normalized_df.values[0] #,formatted_df\n"
   ]
  },
  {
   "cell_type": "code",
   "execution_count": 77,
   "metadata": {},
   "outputs": [
    {
     "name": "stdout",
     "output_type": "stream",
     "text": [
      "Total samples to add: Male - 19479 , Female -  24844\n",
      "sth\n",
      "sth\n",
      "Total samples added: {'M': 19459, 'F': 24826}\n"
     ]
    }
   ],
   "source": [
    "percentage = 1.3\n",
    "training_data = data_subset.loc[data_subset[\"split\"] == \"train\"]\n",
    "#df_lp_rus = lp_ros(training_data, percentage) \n",
    "df_lp_ros_gender = lp_ros_gender(training_data, percentage)  "
   ]
  },
  {
   "cell_type": "code",
   "execution_count": 78,
   "metadata": {},
   "outputs": [],
   "source": [
    "df_aggregated = aggregate(df_lp_ros_gender,label_subset,True)\n",
    "df_aggregated.to_clipboard() "
   ]
  },
  {
   "cell_type": "code",
   "execution_count": 79,
   "metadata": {},
   "outputs": [
    {
     "name": "stdout",
     "output_type": "stream",
     "text": [
      "1.1405033900285506\n"
     ]
    },
    {
     "name": "stderr",
     "output_type": "stream",
     "text": [
      "C:\\Users\\rankl\\AppData\\Local\\Temp\\ipykernel_13908\\282967380.py:5: FutureWarning: Calling a ufunc on non-aligned DataFrames (or DataFrame/Series combination). Currently, the indices are ignored and the result takes the index/columns of the first DataFrame. In the future , the DataFrames/Series will be aligned before applying the ufunc.\n",
      "Convert one of the arguments to a NumPy array (eg 'ufunc(df1, np.asarray(df2)') to keep the current behaviour, or align manually (eg 'df1, df2 = df1.align(df2)') before passing to the ufunc to obtain the future behaviour and silence this warning.\n",
      "  matrix_mul = np.matmul(df_IR_gender,df_IR_disease)\n"
     ]
    }
   ],
   "source": [
    "disease, gender, IS = mmult(df_aggregated)\n",
    "output_file = 'ROS/03_ros_gender.xlsx'\n",
    "\n",
    "# Create a Pandas Excel writer using XlsxWriter as the engine\n",
    "writer = pd.ExcelWriter(output_file, engine='xlsxwriter')\n",
    "\n",
    "# Write each dataframe to a different sheet in the Excel file\n",
    "disease.to_excel(writer, sheet_name='Disease', index=False)\n",
    "gender.to_excel(writer, sheet_name='Gender', index=False)\n",
    "\n",
    "# Save the Excel file\n",
    "writer.save()\n",
    "print(IS)"
   ]
  },
  {
   "cell_type": "code",
   "execution_count": null,
   "metadata": {},
   "outputs": [
    {
     "name": "stderr",
     "output_type": "stream",
     "text": [
      "C:\\Users\\rankl\\AppData\\Local\\Temp\\ipykernel_1604\\2052385826.py:5: FutureWarning: Calling a ufunc on non-aligned DataFrames (or DataFrame/Series combination). Currently, the indices are ignored and the result takes the index/columns of the first DataFrame. In the future , the DataFrames/Series will be aligned before applying the ufunc.\n",
      "Convert one of the arguments to a NumPy array (eg 'ufunc(df1, np.asarray(df2)') to keep the current behaviour, or align manually (eg 'df1, df2 = df1.align(df2)') before passing to the ufunc to obtain the future behaviour and silence this warning.\n",
      "  matrix_mul = np.matmul(df_IR_gender,df_IR_disease)\n"
     ]
    }
   ],
   "source": [
    "df_mmult = mmult(df_aggregated)\n",
    "df_mmult.to_clipboard()"
   ]
  },
  {
   "cell_type": "code",
   "execution_count": null,
   "metadata": {},
   "outputs": [],
   "source": [
    "#df_lp_ros = df_lp_ros.drop(['powerset'],axis=1)\n",
    "df_lp_ros.to_csv(\"ros_03.csv\",index=False)"
   ]
  },
  {
   "cell_type": "code",
   "execution_count": null,
   "metadata": {},
   "outputs": [],
   "source": [
    "df_lp_ros_gender = df_lp_ros_gender.drop(['powerset'],axis=1)\n",
    "df_lp_ros_gender.to_csv(\"ros_gender_03.csv\",index=False)"
   ]
  },
  {
   "attachments": {},
   "cell_type": "markdown",
   "metadata": {},
   "source": [
    "# Imbalance degree"
   ]
  },
  {
   "attachments": {},
   "cell_type": "markdown",
   "metadata": {},
   "source": [
    "## Co-Occurrence Matrix"
   ]
  },
  {
   "cell_type": "code",
   "execution_count": null,
   "metadata": {},
   "outputs": [],
   "source": [
    "#data_subset.to_csv('5diseaseTypes_validation.csv',index=False)"
   ]
  },
  {
   "cell_type": "code",
   "execution_count": null,
   "metadata": {},
   "outputs": [
    {
     "ename": "ValueError",
     "evalue": "could not convert string to float: 'train'",
     "output_type": "error",
     "traceback": [
      "\u001b[1;31m---------------------------------------------------------------------------\u001b[0m",
      "\u001b[1;31mValueError\u001b[0m                                Traceback (most recent call last)",
      "\u001b[1;32mc:\\Users\\rankl\\Documents\\uni\\Thesis\\Development\\modelDesign_bias_CXR\\data\\MIMICCXR\\distributions.ipynb Cell 96\u001b[0m in \u001b[0;36m<cell line: 1>\u001b[1;34m()\u001b[0m\n\u001b[1;32m----> <a href='vscode-notebook-cell:/c%3A/Users/rankl/Documents/uni/Thesis/Development/modelDesign_bias_CXR/data/MIMICCXR/distributions.ipynb#Y164sZmlsZQ%3D%3D?line=0'>1</a>\u001b[0m diseases \u001b[39m=\u001b[39m random_df\u001b[39m.\u001b[39;49miloc[:,\u001b[39m4\u001b[39;49m:]\u001b[39m.\u001b[39;49mastype(\u001b[39mfloat\u001b[39;49m)\n\u001b[0;32m      <a href='vscode-notebook-cell:/c%3A/Users/rankl/Documents/uni/Thesis/Development/modelDesign_bias_CXR/data/MIMICCXR/distributions.ipynb#Y164sZmlsZQ%3D%3D?line=1'>2</a>\u001b[0m \u001b[39m#f.fillna(0, inplace=True)\u001b[39;00m\n\u001b[0;32m      <a href='vscode-notebook-cell:/c%3A/Users/rankl/Documents/uni/Thesis/Development/modelDesign_bias_CXR/data/MIMICCXR/distributions.ipynb#Y164sZmlsZQ%3D%3D?line=2'>3</a>\u001b[0m \u001b[39m#print(type(diseases))\u001b[39;00m\n\u001b[0;32m      <a href='vscode-notebook-cell:/c%3A/Users/rankl/Documents/uni/Thesis/Development/modelDesign_bias_CXR/data/MIMICCXR/distributions.ipynb#Y164sZmlsZQ%3D%3D?line=3'>4</a>\u001b[0m diseases[np\u001b[39m.\u001b[39misnan(diseases)] \u001b[39m=\u001b[39m \u001b[39m0\u001b[39m\n",
      "File \u001b[1;32mc:\\Users\\rankl\\AppData\\Local\\Programs\\Python\\Python310\\lib\\site-packages\\pandas\\core\\generic.py:5912\u001b[0m, in \u001b[0;36mNDFrame.astype\u001b[1;34m(self, dtype, copy, errors)\u001b[0m\n\u001b[0;32m   5905\u001b[0m     results \u001b[39m=\u001b[39m [\n\u001b[0;32m   5906\u001b[0m         \u001b[39mself\u001b[39m\u001b[39m.\u001b[39miloc[:, i]\u001b[39m.\u001b[39mastype(dtype, copy\u001b[39m=\u001b[39mcopy)\n\u001b[0;32m   5907\u001b[0m         \u001b[39mfor\u001b[39;00m i \u001b[39min\u001b[39;00m \u001b[39mrange\u001b[39m(\u001b[39mlen\u001b[39m(\u001b[39mself\u001b[39m\u001b[39m.\u001b[39mcolumns))\n\u001b[0;32m   5908\u001b[0m     ]\n\u001b[0;32m   5910\u001b[0m \u001b[39melse\u001b[39;00m:\n\u001b[0;32m   5911\u001b[0m     \u001b[39m# else, only a single dtype is given\u001b[39;00m\n\u001b[1;32m-> 5912\u001b[0m     new_data \u001b[39m=\u001b[39m \u001b[39mself\u001b[39;49m\u001b[39m.\u001b[39;49m_mgr\u001b[39m.\u001b[39;49mastype(dtype\u001b[39m=\u001b[39;49mdtype, copy\u001b[39m=\u001b[39;49mcopy, errors\u001b[39m=\u001b[39;49merrors)\n\u001b[0;32m   5913\u001b[0m     \u001b[39mreturn\u001b[39;00m \u001b[39mself\u001b[39m\u001b[39m.\u001b[39m_constructor(new_data)\u001b[39m.\u001b[39m__finalize__(\u001b[39mself\u001b[39m, method\u001b[39m=\u001b[39m\u001b[39m\"\u001b[39m\u001b[39mastype\u001b[39m\u001b[39m\"\u001b[39m)\n\u001b[0;32m   5915\u001b[0m \u001b[39m# GH 33113: handle empty frame or series\u001b[39;00m\n",
      "File \u001b[1;32mc:\\Users\\rankl\\AppData\\Local\\Programs\\Python\\Python310\\lib\\site-packages\\pandas\\core\\internals\\managers.py:419\u001b[0m, in \u001b[0;36mBaseBlockManager.astype\u001b[1;34m(self, dtype, copy, errors)\u001b[0m\n\u001b[0;32m    418\u001b[0m \u001b[39mdef\u001b[39;00m \u001b[39mastype\u001b[39m(\u001b[39mself\u001b[39m: T, dtype, copy: \u001b[39mbool\u001b[39m \u001b[39m=\u001b[39m \u001b[39mFalse\u001b[39;00m, errors: \u001b[39mstr\u001b[39m \u001b[39m=\u001b[39m \u001b[39m\"\u001b[39m\u001b[39mraise\u001b[39m\u001b[39m\"\u001b[39m) \u001b[39m-\u001b[39m\u001b[39m>\u001b[39m T:\n\u001b[1;32m--> 419\u001b[0m     \u001b[39mreturn\u001b[39;00m \u001b[39mself\u001b[39;49m\u001b[39m.\u001b[39;49mapply(\u001b[39m\"\u001b[39;49m\u001b[39mastype\u001b[39;49m\u001b[39m\"\u001b[39;49m, dtype\u001b[39m=\u001b[39;49mdtype, copy\u001b[39m=\u001b[39;49mcopy, errors\u001b[39m=\u001b[39;49merrors)\n",
      "File \u001b[1;32mc:\\Users\\rankl\\AppData\\Local\\Programs\\Python\\Python310\\lib\\site-packages\\pandas\\core\\internals\\managers.py:304\u001b[0m, in \u001b[0;36mBaseBlockManager.apply\u001b[1;34m(self, f, align_keys, ignore_failures, **kwargs)\u001b[0m\n\u001b[0;32m    302\u001b[0m         applied \u001b[39m=\u001b[39m b\u001b[39m.\u001b[39mapply(f, \u001b[39m*\u001b[39m\u001b[39m*\u001b[39mkwargs)\n\u001b[0;32m    303\u001b[0m     \u001b[39melse\u001b[39;00m:\n\u001b[1;32m--> 304\u001b[0m         applied \u001b[39m=\u001b[39m \u001b[39mgetattr\u001b[39m(b, f)(\u001b[39m*\u001b[39m\u001b[39m*\u001b[39mkwargs)\n\u001b[0;32m    305\u001b[0m \u001b[39mexcept\u001b[39;00m (\u001b[39mTypeError\u001b[39;00m, \u001b[39mNotImplementedError\u001b[39;00m):\n\u001b[0;32m    306\u001b[0m     \u001b[39mif\u001b[39;00m \u001b[39mnot\u001b[39;00m ignore_failures:\n",
      "File \u001b[1;32mc:\\Users\\rankl\\AppData\\Local\\Programs\\Python\\Python310\\lib\\site-packages\\pandas\\core\\internals\\blocks.py:580\u001b[0m, in \u001b[0;36mBlock.astype\u001b[1;34m(self, dtype, copy, errors)\u001b[0m\n\u001b[0;32m    562\u001b[0m \u001b[39m\"\"\"\u001b[39;00m\n\u001b[0;32m    563\u001b[0m \u001b[39mCoerce to the new dtype.\u001b[39;00m\n\u001b[0;32m    564\u001b[0m \n\u001b[1;32m   (...)\u001b[0m\n\u001b[0;32m    576\u001b[0m \u001b[39mBlock\u001b[39;00m\n\u001b[0;32m    577\u001b[0m \u001b[39m\"\"\"\u001b[39;00m\n\u001b[0;32m    578\u001b[0m values \u001b[39m=\u001b[39m \u001b[39mself\u001b[39m\u001b[39m.\u001b[39mvalues\n\u001b[1;32m--> 580\u001b[0m new_values \u001b[39m=\u001b[39m astype_array_safe(values, dtype, copy\u001b[39m=\u001b[39;49mcopy, errors\u001b[39m=\u001b[39;49merrors)\n\u001b[0;32m    582\u001b[0m new_values \u001b[39m=\u001b[39m maybe_coerce_values(new_values)\n\u001b[0;32m    583\u001b[0m newb \u001b[39m=\u001b[39m \u001b[39mself\u001b[39m\u001b[39m.\u001b[39mmake_block(new_values)\n",
      "File \u001b[1;32mc:\\Users\\rankl\\AppData\\Local\\Programs\\Python\\Python310\\lib\\site-packages\\pandas\\core\\dtypes\\cast.py:1292\u001b[0m, in \u001b[0;36mastype_array_safe\u001b[1;34m(values, dtype, copy, errors)\u001b[0m\n\u001b[0;32m   1289\u001b[0m     dtype \u001b[39m=\u001b[39m dtype\u001b[39m.\u001b[39mnumpy_dtype\n\u001b[0;32m   1291\u001b[0m \u001b[39mtry\u001b[39;00m:\n\u001b[1;32m-> 1292\u001b[0m     new_values \u001b[39m=\u001b[39m astype_array(values, dtype, copy\u001b[39m=\u001b[39;49mcopy)\n\u001b[0;32m   1293\u001b[0m \u001b[39mexcept\u001b[39;00m (\u001b[39mValueError\u001b[39;00m, \u001b[39mTypeError\u001b[39;00m):\n\u001b[0;32m   1294\u001b[0m     \u001b[39m# e.g. astype_nansafe can fail on object-dtype of strings\u001b[39;00m\n\u001b[0;32m   1295\u001b[0m     \u001b[39m#  trying to convert to float\u001b[39;00m\n\u001b[0;32m   1296\u001b[0m     \u001b[39mif\u001b[39;00m errors \u001b[39m==\u001b[39m \u001b[39m\"\u001b[39m\u001b[39mignore\u001b[39m\u001b[39m\"\u001b[39m:\n",
      "File \u001b[1;32mc:\\Users\\rankl\\AppData\\Local\\Programs\\Python\\Python310\\lib\\site-packages\\pandas\\core\\dtypes\\cast.py:1237\u001b[0m, in \u001b[0;36mastype_array\u001b[1;34m(values, dtype, copy)\u001b[0m\n\u001b[0;32m   1234\u001b[0m     values \u001b[39m=\u001b[39m values\u001b[39m.\u001b[39mastype(dtype, copy\u001b[39m=\u001b[39mcopy)\n\u001b[0;32m   1236\u001b[0m \u001b[39melse\u001b[39;00m:\n\u001b[1;32m-> 1237\u001b[0m     values \u001b[39m=\u001b[39m astype_nansafe(values, dtype, copy\u001b[39m=\u001b[39;49mcopy)\n\u001b[0;32m   1239\u001b[0m \u001b[39m# in pandas we don't store numpy str dtypes, so convert to object\u001b[39;00m\n\u001b[0;32m   1240\u001b[0m \u001b[39mif\u001b[39;00m \u001b[39misinstance\u001b[39m(dtype, np\u001b[39m.\u001b[39mdtype) \u001b[39mand\u001b[39;00m \u001b[39missubclass\u001b[39m(values\u001b[39m.\u001b[39mdtype\u001b[39m.\u001b[39mtype, \u001b[39mstr\u001b[39m):\n",
      "File \u001b[1;32mc:\\Users\\rankl\\AppData\\Local\\Programs\\Python\\Python310\\lib\\site-packages\\pandas\\core\\dtypes\\cast.py:1098\u001b[0m, in \u001b[0;36mastype_nansafe\u001b[1;34m(arr, dtype, copy, skipna)\u001b[0m\n\u001b[0;32m   1096\u001b[0m \u001b[39mif\u001b[39;00m arr\u001b[39m.\u001b[39mndim \u001b[39m>\u001b[39m \u001b[39m1\u001b[39m:\n\u001b[0;32m   1097\u001b[0m     flat \u001b[39m=\u001b[39m arr\u001b[39m.\u001b[39mravel()\n\u001b[1;32m-> 1098\u001b[0m     result \u001b[39m=\u001b[39m astype_nansafe(flat, dtype, copy\u001b[39m=\u001b[39;49mcopy, skipna\u001b[39m=\u001b[39;49mskipna)\n\u001b[0;32m   1099\u001b[0m     \u001b[39m# error: Item \"ExtensionArray\" of \"Union[ExtensionArray, ndarray]\" has no\u001b[39;00m\n\u001b[0;32m   1100\u001b[0m     \u001b[39m# attribute \"reshape\"\u001b[39;00m\n\u001b[0;32m   1101\u001b[0m     \u001b[39mreturn\u001b[39;00m result\u001b[39m.\u001b[39mreshape(arr\u001b[39m.\u001b[39mshape)  \u001b[39m# type: ignore[union-attr]\u001b[39;00m\n",
      "File \u001b[1;32mc:\\Users\\rankl\\AppData\\Local\\Programs\\Python\\Python310\\lib\\site-packages\\pandas\\core\\dtypes\\cast.py:1181\u001b[0m, in \u001b[0;36mastype_nansafe\u001b[1;34m(arr, dtype, copy, skipna)\u001b[0m\n\u001b[0;32m   1177\u001b[0m     \u001b[39mraise\u001b[39;00m \u001b[39mValueError\u001b[39;00m(msg)\n\u001b[0;32m   1179\u001b[0m \u001b[39mif\u001b[39;00m copy \u001b[39mor\u001b[39;00m is_object_dtype(arr\u001b[39m.\u001b[39mdtype) \u001b[39mor\u001b[39;00m is_object_dtype(dtype):\n\u001b[0;32m   1180\u001b[0m     \u001b[39m# Explicit copy, or required since NumPy can't view from / to object.\u001b[39;00m\n\u001b[1;32m-> 1181\u001b[0m     \u001b[39mreturn\u001b[39;00m arr\u001b[39m.\u001b[39;49mastype(dtype, copy\u001b[39m=\u001b[39;49m\u001b[39mTrue\u001b[39;49;00m)\n\u001b[0;32m   1183\u001b[0m \u001b[39mreturn\u001b[39;00m arr\u001b[39m.\u001b[39mastype(dtype, copy\u001b[39m=\u001b[39mcopy)\n",
      "\u001b[1;31mValueError\u001b[0m: could not convert string to float: 'train'"
     ]
    }
   ],
   "source": [
    "diseases = random_df.iloc[:,4:].astype(float)\n",
    "#f.fillna(0, inplace=True)\n",
    "#print(type(diseases))\n",
    "diseases[np.isnan(diseases)] = 0\n",
    "co_occurrence_matrix = np.dot(diseases.T, diseases)"
   ]
  },
  {
   "cell_type": "code",
   "execution_count": null,
   "metadata": {},
   "outputs": [
    {
     "name": "stdout",
     "output_type": "stream",
     "text": [
      "[[19500.  7985.  8269.  4997. 10280.  5783.]\n",
      " [ 7985. 26000. 12469.  8252. 10721.  6812.]\n",
      " [ 8269. 12469. 26000.  8592. 11346.  7442.]\n",
      " [ 4997.  8252.  8592. 26000. 12879.  8147.]\n",
      " [10280. 10721. 11346. 12879. 26638.  8658.]\n",
      " [ 5783.  6812.  7442.  8147.  8658. 23899.]]\n"
     ]
    },
    {
     "name": "stderr",
     "output_type": "stream",
     "text": [
      "C:\\Users\\rankl\\AppData\\Local\\Temp\\ipykernel_15112\\412520285.py:10: UserWarning: FixedFormatter should only be used together with FixedLocator\n",
      "  ax.set_xticklabels(tick_labels, rotation=30, ha='center')\n"
     ]
    },
    {
     "data": {
      "image/png": "[encoded data removed]",
      "text/plain": [
       "<Figure size 432x288 with 2 Axes>"
      ]
     },
     "metadata": {
      "needs_background": "light"
     },
     "output_type": "display_data"
    }
   ],
   "source": [
    "#np.fill_diagonal(co_occurrence_matrix,0)\n",
    "tick_labels = columns[3:]\n",
    "print(co_occurrence_matrix)\n",
    "\n",
    "# create the plot\n",
    "fig, ax = plt.subplots()\n",
    "\n",
    "# set the xticks and labels\n",
    "#ax.set_xticks(label_subset)\n",
    "ax.set_xticklabels(tick_labels, rotation=30, ha='center')\n",
    "# display array as matrix\n",
    "plt.imshow(co_occurrence_matrix, cmap='viridis')\n",
    "plt.colorbar()\n",
    "# show the plot\n",
    "plt.show()"
   ]
  },
  {
   "attachments": {},
   "cell_type": "markdown",
   "metadata": {},
   "source": [
    "## Co-occurence graphs"
   ]
  },
  {
   "cell_type": "code",
   "execution_count": null,
   "metadata": {},
   "outputs": [],
   "source": [
    "import pandas as pd\n",
    "import numpy as np\n",
    "import matplotlib.pyplot as plt\n",
    "#df = pd.read_csv(r\"random_sample.csv\")\n",
    "df = random_df"
   ]
  },
  {
   "cell_type": "code",
   "execution_count": null,
   "metadata": {},
   "outputs": [],
   "source": [
    "df.loc[:, label_subset] = df.loc[:, label_subset].applymap(lambda x: np.nan if x <= 0 else x)"
   ]
  },
  {
   "cell_type": "code",
   "execution_count": null,
   "metadata": {},
   "outputs": [
    {
     "name": "stdout",
     "output_type": "stream",
     "text": [
      "[26000.  8252.  8147.  4997. 12879.  8592.]\n",
      "[ 8252. 26000.  6812.  7985. 10721. 12469.]\n",
      "[ 8147.  6812. 23899.  5783.  8658.  7442.]\n",
      "[ 4997.  7985.  5783. 19500. 10280.  8269.]\n",
      "[12879. 10721.  8658. 10280. 26638. 11346.]\n",
      "[ 8592. 12469.  7442.  8269. 11346. 26000.]\n"
     ]
    },
    {
     "data": {
      "image/png": "[encoded data removed]",
      "text/plain": [
       "<Figure size 1440x720 with 6 Axes>"
      ]
     },
     "metadata": {
      "needs_background": "light"
     },
     "output_type": "display_data"
    }
   ],
   "source": [
    "# vielleicht kannst du den Output noch sortieren nach der höchsten Anzahl an gemeinsamen labels\n",
    "comp_2_rest = False\n",
    "fig, axs = plt.subplots(nrows=2, ncols=3, figsize=(20, 10))\n",
    "n_diseases = len(diseases_incl)\n",
    "n_subplots = len(axs.flat)\n",
    "\n",
    "for i, label in enumerate(diseases_incl):\n",
    "    row = i // 3\n",
    "    col = i % 3\n",
    "    ax = axs[row][col]\n",
    "    ticks = []\n",
    "    position = 0\n",
    "    if comp_2_rest:\n",
    "        diseases_excl_loop = diseases_excl_orig[0:8]\n",
    "        diseases_excl_loop.append(label)\n",
    "        diseases = df.loc[:,diseases_excl_loop]\n",
    "        ticks = diseases_excl_loop\n",
    "        ticks[1] = 'Enlarged\\nCardiomediastinum'\n",
    "        position = len(diseases_excl_orig)\n",
    "    else:\n",
    "        diseases = df.loc[:,diseases_incl]\n",
    "        ticks = diseases_incl\n",
    "        position = i\n",
    "        \n",
    "    diseases[np.isnan(diseases)] = 0\n",
    "    co_occurrence_matrix = np.dot(diseases.T, diseases)\n",
    "    # Define your array of values\n",
    "    values = np.array(co_occurrence_matrix[position])\n",
    "\n",
    "    print(values)\n",
    "\n",
    "    # Define your colormap\n",
    "    cmap = plt.get_cmap('cool')\n",
    "\n",
    "    # Normalize your values to the range [0, 1]\n",
    "    norm = plt.Normalize(values.min(), values.max())\n",
    "\n",
    "    # Map your values to colors using the colormap and the normalization\n",
    "    colors = cmap(norm(values))\n",
    "\n",
    "    if values.any():\n",
    "        # Display your colors as a horizontal bar chart\n",
    "        ax.barh(range(len(values)), values, color=colors)\n",
    "\n",
    "        ax.set_yticks(range(len(values)))  # set tick positions\n",
    "        ax.set_yticklabels(ticks)  # set tick labels\n",
    "        ax.set_title(label)\n",
    "        for j, val in enumerate(values):\n",
    "            if val < 15000 :\n",
    "                ax.text(val, j, str(val), color='black', fontweight='bold', ha='left', va='center')\n",
    "            elif val > 0:\n",
    "                ax.text(val, j, str(val), color='black', fontweight='bold', ha='right', va='center')\n",
    "    else:\n",
    "        ax[3][2].axis(\"off\") \n",
    "        fig.delaxes(ax[3][2])\n",
    "    # remove empty subplots\n",
    "    #if i >= n_subplots:\n",
    "    #    fig.delaxes(ax[3][2])\n",
    "        \n",
    "# adjust spacing between subplots\n",
    "plt.subplots_adjust(wspace=0.4, hspace=0.4)\n",
    "\n",
    "plt.show()"
   ]
  },
  {
   "cell_type": "code",
   "execution_count": null,
   "metadata": {},
   "outputs": [],
   "source": [
    "atelectasis_csv = pd.read_csv('atelectasis_comparison.csv', sep=';')\n",
    "atelectasis_csv = atelectasis_csv[['dicom_id', 'Atelectasis']]\n",
    "atelectasis_df = data_subset[['dicom_id', 'Atelectasis']]\n",
    "atelectasis_df = atelectasis_df[atelectasis_df['Atelectasis'] == 1]"
   ]
  },
  {
   "cell_type": "code",
   "execution_count": null,
   "metadata": {},
   "outputs": [
    {
     "data": {
      "text/html": [
       "<div>\n",
       "<style scoped>\n",
       "    .dataframe tbody tr th:only-of-type {\n",
       "        vertical-align: middle;\n",
       "    }\n",
       "\n",
       "    .dataframe tbody tr th {\n",
       "        vertical-align: top;\n",
       "    }\n",
       "\n",
       "    .dataframe thead th {\n",
       "        text-align: right;\n",
       "    }\n",
       "</style>\n",
       "<table border=\"1\" class=\"dataframe\">\n",
       "  <thead>\n",
       "    <tr style=\"text-align: right;\">\n",
       "      <th></th>\n",
       "      <th>dicom_id</th>\n",
       "      <th>Atelectasis</th>\n",
       "      <th>_merge</th>\n",
       "    </tr>\n",
       "  </thead>\n",
       "  <tbody>\n",
       "    <tr>\n",
       "      <th>0</th>\n",
       "      <td>3813b9b6-88d998b4-941e767b-601ba7c1-98f61102</td>\n",
       "      <td>1.0</td>\n",
       "      <td>left_only</td>\n",
       "    </tr>\n",
       "    <tr>\n",
       "      <th>2</th>\n",
       "      <td>85a5f9ac-6a7c30f8-a7a94492-5726acf2-d0b87401</td>\n",
       "      <td>1.0</td>\n",
       "      <td>left_only</td>\n",
       "    </tr>\n",
       "    <tr>\n",
       "      <th>3</th>\n",
       "      <td>351fd417-c131e1fd-6573229f-5e58f4cf-a15263a6</td>\n",
       "      <td>1.0</td>\n",
       "      <td>left_only</td>\n",
       "    </tr>\n",
       "    <tr>\n",
       "      <th>4</th>\n",
       "      <td>4405b529-d230819d-096d8a07-d3e9749a-f78c09c0</td>\n",
       "      <td>1.0</td>\n",
       "      <td>left_only</td>\n",
       "    </tr>\n",
       "    <tr>\n",
       "      <th>6</th>\n",
       "      <td>72d55d23-84921ec6-99e95337-aeccd52a-50da54bb</td>\n",
       "      <td>1.0</td>\n",
       "      <td>left_only</td>\n",
       "    </tr>\n",
       "    <tr>\n",
       "      <th>...</th>\n",
       "      <td>...</td>\n",
       "      <td>...</td>\n",
       "      <td>...</td>\n",
       "    </tr>\n",
       "    <tr>\n",
       "      <th>48777</th>\n",
       "      <td>b32ca787-236dfe04-25ad4267-18bcda62-d18a8f31</td>\n",
       "      <td>1.0</td>\n",
       "      <td>left_only</td>\n",
       "    </tr>\n",
       "    <tr>\n",
       "      <th>48779</th>\n",
       "      <td>6866acaf-1c822e0e-8ac3ad8d-fa0f208e-3e33c589</td>\n",
       "      <td>1.0</td>\n",
       "      <td>left_only</td>\n",
       "    </tr>\n",
       "    <tr>\n",
       "      <th>48780</th>\n",
       "      <td>32fb7803-7dc89bb6-30e5a4e0-09c09ff6-f84863ab</td>\n",
       "      <td>1.0</td>\n",
       "      <td>left_only</td>\n",
       "    </tr>\n",
       "    <tr>\n",
       "      <th>48781</th>\n",
       "      <td>af2fb6e4-eef63da9-988c750f-5a703add-e655ef75</td>\n",
       "      <td>1.0</td>\n",
       "      <td>left_only</td>\n",
       "    </tr>\n",
       "    <tr>\n",
       "      <th>48782</th>\n",
       "      <td>e7563709-3d9fe00c-3df541bc-4126ac3e-d29211d6</td>\n",
       "      <td>1.0</td>\n",
       "      <td>left_only</td>\n",
       "    </tr>\n",
       "  </tbody>\n",
       "</table>\n",
       "<p>43260 rows × 3 columns</p>\n",
       "</div>"
      ],
      "text/plain": [
       "                                           dicom_id  Atelectasis     _merge\n",
       "0      3813b9b6-88d998b4-941e767b-601ba7c1-98f61102          1.0  left_only\n",
       "2      85a5f9ac-6a7c30f8-a7a94492-5726acf2-d0b87401          1.0  left_only\n",
       "3      351fd417-c131e1fd-6573229f-5e58f4cf-a15263a6          1.0  left_only\n",
       "4      4405b529-d230819d-096d8a07-d3e9749a-f78c09c0          1.0  left_only\n",
       "6      72d55d23-84921ec6-99e95337-aeccd52a-50da54bb          1.0  left_only\n",
       "...                                             ...          ...        ...\n",
       "48777  b32ca787-236dfe04-25ad4267-18bcda62-d18a8f31          1.0  left_only\n",
       "48779  6866acaf-1c822e0e-8ac3ad8d-fa0f208e-3e33c589          1.0  left_only\n",
       "48780  32fb7803-7dc89bb6-30e5a4e0-09c09ff6-f84863ab          1.0  left_only\n",
       "48781  af2fb6e4-eef63da9-988c750f-5a703add-e655ef75          1.0  left_only\n",
       "48782  e7563709-3d9fe00c-3df541bc-4126ac3e-d29211d6          1.0  left_only\n",
       "\n",
       "[43260 rows x 3 columns]"
      ]
     },
     "execution_count": 35,
     "metadata": {},
     "output_type": "execute_result"
    }
   ],
   "source": [
    "merged_df = pd.merge(atelectasis_df, atelectasis_csv, how='outer', indicator=True)\n",
    "not_in_df2 = merged_df[merged_df['_merge'] == 'left_only']\n",
    "not_in_df2"
   ]
  },
  {
   "attachments": {},
   "cell_type": "markdown",
   "metadata": {},
   "source": [
    "# Backup"
   ]
  },
  {
   "cell_type": "code",
   "execution_count": null,
   "metadata": {},
   "outputs": [],
   "source": [
    "        if num_lists_fem > 0 and len(list_female) <= num_lists_fem:\n",
    "            selected_lists_fem = list_female\n",
    "        else:\n",
    "            selected_lists_fem = random.sample(list_female, num_lists_fem)\n",
    "        if num_lists_male > 0 and len(list_male) <= num_lists_male:\n",
    "            selected_lists_male = list_male\n",
    "        else:\n",
    "            selected_lists_male = random.sample(list_male, num_lists_male)"
   ]
  },
  {
   "cell_type": "code",
   "execution_count": null,
   "metadata": {},
   "outputs": [],
   "source": [
    "array_list = {\n",
    "    'Atelectasis': 0,\n",
    "    'Cardiomegaly': 0,\n",
    "    'Consolidation': 0,\n",
    "    'Edema': 0,\n",
    "    'Enlarged Cardiomediastinum': 0,\n",
    "    'Lung Lesion': 0,\n",
    "    'Lung Opacity': 0,\n",
    "    'No Finding': 0,\n",
    "    'Pleural Effusion': 0,\n",
    "    'Pleural Other': 0,\n",
    "    'Pneumonia': 0,\n",
    "    'Pneumothorax': 0,\n",
    "    'Support Devices': 0\n",
    "}"
   ]
  },
  {
   "cell_type": "code",
   "execution_count": null,
   "metadata": {},
   "outputs": [],
   "source": [
    "# get a boolean DataFrame indicating which elements are nonzero\n",
    "nonzero_df = count_subjects_df[labels] > 0\n",
    "\n",
    "# use the boolean DataFrame to get the labels of the nonzero elements for each row\n",
    "results = nonzero_df.apply(lambda row: row.index[row].tolist(), axis=1)"
   ]
  },
  {
   "cell_type": "code",
   "execution_count": null,
   "metadata": {},
   "outputs": [
    {
     "ename": "KeyError",
     "evalue": "'Fracture'",
     "output_type": "error",
     "traceback": [
      "\u001b[1;31m---------------------------------------------------------------------------\u001b[0m",
      "\u001b[1;31mKeyError\u001b[0m                                  Traceback (most recent call last)",
      "\u001b[1;32mc:\\Users\\rankl\\Documents\\uni\\Thesis\\Development\\modelDesign_bias_CXR\\data\\MIMICCXR\\distributions.ipynb Cell 47\u001b[0m in \u001b[0;36m<cell line: 3>\u001b[1;34m()\u001b[0m\n\u001b[0;32m      <a href='vscode-notebook-cell:/c%3A/Users/rankl/Documents/uni/Thesis/Development/modelDesign_bias_CXR/data/MIMICCXR/distributions.ipynb#X64sZmlsZQ%3D%3D?line=4'>5</a>\u001b[0m result \u001b[39m=\u001b[39m df\u001b[39m.\u001b[39miloc[row_index][df\u001b[39m.\u001b[39miloc[row_index] \u001b[39m>\u001b[39m \u001b[39m0\u001b[39m]\u001b[39m.\u001b[39mindex\u001b[39m.\u001b[39mtolist()\n\u001b[0;32m      <a href='vscode-notebook-cell:/c%3A/Users/rankl/Documents/uni/Thesis/Development/modelDesign_bias_CXR/data/MIMICCXR/distributions.ipynb#X64sZmlsZQ%3D%3D?line=5'>6</a>\u001b[0m \u001b[39mfor\u001b[39;00m item \u001b[39min\u001b[39;00m result:\n\u001b[0;32m      <a href='vscode-notebook-cell:/c%3A/Users/rankl/Documents/uni/Thesis/Development/modelDesign_bias_CXR/data/MIMICCXR/distributions.ipynb#X64sZmlsZQ%3D%3D?line=6'>7</a>\u001b[0m     \u001b[39m# in einem 2D Array, das die Labels enthält, addiere +1 in diesem Bucket\u001b[39;00m\n\u001b[1;32m----> <a href='vscode-notebook-cell:/c%3A/Users/rankl/Documents/uni/Thesis/Development/modelDesign_bias_CXR/data/MIMICCXR/distributions.ipynb#X64sZmlsZQ%3D%3D?line=7'>8</a>\u001b[0m     array_list[item] \u001b[39m+\u001b[39m\u001b[39m=\u001b[39m \u001b[39m1\u001b[39m\n",
      "\u001b[1;31mKeyError\u001b[0m: 'Fracture'"
     ]
    }
   ],
   "source": [
    "df = count_subjects_df[labels]\n",
    "results = []\n",
    "for row_index in range(len(count_subjects_df)): #\n",
    "    # nimm dir eine Zeile und erhalte alle Spalten, die größer null sind\n",
    "    result = df.iloc[row_index][df.iloc[row_index] > 0].index.tolist()\n",
    "    for item in result:\n",
    "        # in einem 2D Array, das die Labels enthält, addiere +1 in diesem Bucket\n",
    "        array_list[item] += 1\n",
    "\n"
   ]
  },
  {
   "cell_type": "code",
   "execution_count": null,
   "metadata": {},
   "outputs": [
    {
     "name": "stdout",
     "output_type": "stream",
     "text": [
      "{'Atelectasis': 0, 'Cardiomegaly': 0, 'Consolidation': 0, 'Edema': 0, 'Enlarged Cardiomediastinum': 0, 'Lung Lesion': 0, 'Lung Opacity': 0, 'No Finding': 0, 'Pleural Effusion': 0, 'Pleural Other': 0, 'Pneumonia': 0, 'Pneumothorax': 0, 'Support Devices': 0}\n"
     ]
    }
   ],
   "source": [
    "print(array_list)"
   ]
  },
  {
   "cell_type": "code",
   "execution_count": null,
   "metadata": {},
   "outputs": [],
   "source": [
    "import numpy as np\n",
    "labels = ['Atelectasis','Cardiomegaly','Consolidation','Edema','Enlarged Cardiomediastinum','Lung Lesion','Lung Opacity','No Finding','Pleural Effusion','Pleural Other','Pneumonia','Pneumothorax','Support Devices']"
   ]
  },
  {
   "cell_type": "code",
   "execution_count": null,
   "metadata": {},
   "outputs": [],
   "source": [
    "import numpy as np\n",
    "import pandas as pd\n",
    "\n",
    "train_size = 1000\n",
    "test_size = 200\n",
    "columns = 30\n",
    "\n",
    "## create train data\n",
    "y_train = np.random.choice([0,1,2,3], train_size, p=[0.15, 0.35, 0.28, 0.22])\n",
    "x_train = pd.DataFrame(np.random.uniform(0,1, (train_size,columns)))\n",
    "\n",
    "## create test data\n",
    "y_test = np.random.choice([0,1,2,3], test_size, p=[0.15, 0.35, 0.28, 0.22])\n",
    "x_test = pd.DataFrame(np.random.uniform(0,1,(test_size,columns)))"
   ]
  },
  {
   "cell_type": "code",
   "execution_count": null,
   "metadata": {},
   "outputs": [
    {
     "name": "stdout",
     "output_type": "stream",
     "text": [
      "[[4, 5, 6], [10, 11, 12]]\n"
     ]
    }
   ],
   "source": [
    "import random\n",
    "\n",
    "array_of_lists = [[1, 2, 3], [4, 5, 6], [7, 8, 9], [10, 11, 12]]\n",
    "\n",
    "# select random percentage of lists\n",
    "percentage = 50\n",
    "num_lists = int(len(array_of_lists) * (percentage / 100))\n",
    "selected_lists = random.sample(array_of_lists, num_lists)\n",
    "\n",
    "print(selected_lists)"
   ]
  },
  {
   "cell_type": "code",
   "execution_count": null,
   "metadata": {},
   "outputs": [
    {
     "name": "stdout",
     "output_type": "stream",
     "text": [
      "   0  1     2     3\n",
      "0  1  a  None  None\n",
      "1  2  b     c  None\n",
      "2  3  d     e     f\n"
     ]
    }
   ],
   "source": [
    "import pandas as pd\n",
    "\n",
    "my_list = [[1, 'a'], [2, 'b', 'c'], [3, 'd', 'e', 'f']]\n",
    "\n",
    "df = pd.DataFrame(data=my_list)\n",
    "\n",
    "print(df)"
   ]
  },
  {
   "cell_type": "code",
   "execution_count": null,
   "metadata": {},
   "outputs": [],
   "source": [
    "import itertools\n",
    "from collections import Counter\n",
    "\n",
    "numbers = [1, 3, 5, 10, 20, 40]\n",
    "\n",
    "# Generate all combinations of the numbers\n",
    "combinations = []\n",
    "for r in range(1, len(numbers) + 1):\n",
    "    combinations.extend(list(itertools.combinations(numbers, r)))\n",
    "\n",
    "# Calculate the sum of each combination\n",
    "sums = [sum(combination) for combination in combinations]\n",
    "\n",
    "# Count the frequencies of each total\n",
    "frequency_counter = Counter(sums)\n",
    "\n",
    "# Create an array to store the frequencies\n",
    "buckets = [0] * (max(frequency_counter.keys()) + 1)\n",
    "\n",
    "# Store the frequencies in the array\n",
    "for total, frequency in frequency_counter.items():\n",
    "    buckets[total] = frequency\n",
    "\n",
    "# Print the totals, frequencies, and corresponding combinations\n",
    "for total, frequency in enumerate(buckets):\n",
    "    #print(f\"Total: {total}, Frequency: {frequency}\")\n",
    "    #print(\"Combinations:\")\n",
    "    for combination in combinations:\n",
    "        if sum(combination) == total:\n",
    "            #print(combination)\n",
    "            print()"
   ]
  },
  {
   "cell_type": "code",
   "execution_count": null,
   "metadata": {},
   "outputs": [],
   "source": [
    "def det_num_samples_gender(dataset, size_reduction):\n",
    "    \n",
    "    num_fem_samples = dataset.loc[dataset['gender'] == 'F'].value_counts().size\n",
    "\n",
    "    \n",
    "    # Determine the number of samples to remove\n",
    "    removal_count = int(len(dataset) * size_reduction)\n",
    "    \n",
    "    female_ratio = num_fem_samples / len(dataset)\n",
    "    \n",
    "    # Calculate the desired number of removed samples for each gender\n",
    "    male_removals = int(removal_count * (1- female_ratio))\n",
    "    female_removals = int(removal_count * female_ratio)\n",
    "    removals = {'M':male_removals,'F':female_removals}\n",
    "    return removals\n",
    "\n",
    "det_num_samples_gender(data_subset, 0.1)"
   ]
  }
 ],
 "metadata": {
  "kernelspec": {
   "display_name": "Python 3",
   "language": "python",
   "name": "python3"
  },
  "language_info": {
   "codemirror_mode": {
    "name": "ipython",
    "version": 3
   },
   "file_extension": ".py",
   "mimetype": "text/x-python",
   "name": "python",
   "nbconvert_exporter": "python",
   "pygments_lexer": "ipython3",
   "version": "3.10.4"
  },
  "orig_nbformat": 4
 },
 "nbformat": 4,
 "nbformat_minor": 2
}
