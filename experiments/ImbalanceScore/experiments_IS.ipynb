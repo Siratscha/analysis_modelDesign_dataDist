{
 "cells": [
  {
   "cell_type": "code",
   "execution_count": 4,
   "metadata": {},
   "outputs": [],
   "source": [
    "# this script calculates the imbalance according to the measures: imbalance ratio, imbalance degree, imbalance score, mean imbalance ratio.\n",
    "# Additionally, for experiment 1 the initial data seen below is iteratively adjusted and used as input for the four metrics\n",
    "data = {\n",
    "    'Edema': [5000, 15000],\n",
    "    'Cardiomegaly': [5000, 15000],\n",
    "    'Atelectasis': [5000, 15000]\n",
    "}\n",
    "# Furthermore, the script generates random group splits for studies 2-4 and calculates the IS for this "
   ]
  },
  {
   "cell_type": "code",
   "execution_count": 18,
   "metadata": {},
   "outputs": [],
   "source": [
    "# import and utility functions\n",
    "import imbalance_degree.imbalance_degree as ib\n",
    "import pandas as pd\n",
    "import numpy as np\n",
    "from IS import mmult\n",
    "def aggregate(df,labels, byGender):\n",
    "     #Initialize an empty dictionary to store the aggregation functions\n",
    "    aggregation_functions = {}\n",
    "\n",
    "     #Iterate over the columns and add them to the aggregation functions dictionary\n",
    "    for column in labels:\n",
    "        aggregation_functions[column] = 'sum'\n",
    "    if byGender:\n",
    "         #Perform the dynamic aggregation\n",
    "        result = df.groupby(['gender']).agg(aggregation_functions)\n",
    "    else:\n",
    "        result = pd.DataFrame(df.agg(aggregation_functions)).T\n",
    "\n",
    "    return result"
   ]
  },
  {
   "cell_type": "markdown",
   "metadata": {},
   "source": [
    "# IS check"
   ]
  },
  {
   "cell_type": "code",
   "execution_count": 19,
   "metadata": {},
   "outputs": [],
   "source": [
    "data = {\n",
    "    'Edema': [15000, 15000],\n",
    "    'Cardiomegaly': [45000, 15000],\n",
    "    'Atelectasis': [15000, 15000]\n",
    "}\n",
    "\n",
    "index = ['0', '1']\n",
    "\n",
    "df = pd.DataFrame(data, index=index)"
   ]
  },
  {
   "cell_type": "code",
   "execution_count": 20,
   "metadata": {},
   "outputs": [
    {
     "name": "stderr",
     "output_type": "stream",
     "text": [
      "c:\\Users\\rankl\\Documents\\uni\\Thesis\\Development\\analysis_modelDesign_dataDist\\experiments\\ImbalanceScore\\IS.py:76: FutureWarning: Calling a ufunc on non-aligned DataFrames (or DataFrame/Series combination). Currently, the indices are ignored and the result takes the index/columns of the first DataFrame. In the future , the DataFrames/Series will be aligned before applying the ufunc.\n",
      "Convert one of the arguments to a NumPy array (eg 'ufunc(df1, np.asarray(df2)') to keep the current behaviour, or align manually (eg 'df1, df2 = df1.align(df2)') before passing to the ufunc to obtain the future behaviour and silence this warning.\n",
      "  matrix_mul = np.matmul(df_IR_gender,df_IR_disease)\n"
     ]
    },
    {
     "data": {
      "text/plain": [
       "0    4.0\n",
       "dtype: float64"
      ]
     },
     "execution_count": 20,
     "metadata": {},
     "output_type": "execute_result"
    }
   ],
   "source": [
    "result = mmult(df)\n",
    "result"
   ]
  },
  {
   "cell_type": "markdown",
   "metadata": {},
   "source": [
    "# Experiment 1"
   ]
  },
  {
   "cell_type": "markdown",
   "metadata": {},
   "source": [
    "## IS"
   ]
  },
  {
   "cell_type": "code",
   "execution_count": null,
   "metadata": {},
   "outputs": [],
   "source": [
    "data = {\n",
    "    'Edema': [5000, 15000],\n",
    "    'Cardiomegaly': [5000, 15000],\n",
    "    'Atelectasis': [5000, 15000]\n",
    "}\n",
    "\n",
    "index = ['0', '1']\n",
    "\n",
    "df = pd.DataFrame(data, index=index)\n",
    "\n",
    "\n",
    "result_df = pd.DataFrame(columns=['mmult_Result'])\n",
    "result = mmult(df)\n",
    "\n",
    "\n",
    "result_df = result_df.append({'mmult_Result': result.values}, ignore_index=True)\n",
    "\n",
    "# Loop through each class\n",
    "for col in df.columns:\n",
    "    current_freq = df.at['0', col]\n",
    "    while current_freq <= 15000:\n",
    "        current_freq += 5000\n",
    "        if current_freq > 15000:\n",
    "            continue\n",
    "        else:\n",
    "            df.at['0', col] = current_freq\n",
    "        result = mmult(df)\n",
    "        result_df = result_df.append({'mmult_Result': result.values}, ignore_index=True)\n",
    "        \n",
    "#result_df.to_excel('result_interpretation.xlsx', index=False)"
   ]
  },
  {
   "cell_type": "markdown",
   "metadata": {},
   "source": [
    "## Imbalance degree"
   ]
  },
  {
   "cell_type": "code",
   "execution_count": 15,
   "metadata": {},
   "outputs": [
    {
     "name": "stdout",
     "output_type": "stream",
     "text": [
      "   Edema Cardiomegaly Atelectasis\n",
      "0  20000        20000       20000\n",
      "1  25000        20000       20000\n",
      "2  30000        20000       20000\n",
      "3  30000        25000       20000\n",
      "4  30000        30000       20000\n",
      "5  30000        30000       25000\n",
      "6  30000        30000       30000\n"
     ]
    },
    {
     "name": "stderr",
     "output_type": "stream",
     "text": [
      "C:\\Users\\rankl\\AppData\\Local\\Temp\\ipykernel_19340\\89403381.py:12: FutureWarning: The frame.append method is deprecated and will be removed from pandas in a future version. Use pandas.concat instead.\n",
      "  aggregated_df = aggregated_df.append(aggregated_result, ignore_index=True)\n",
      "C:\\Users\\rankl\\AppData\\Local\\Temp\\ipykernel_19340\\89403381.py:24: FutureWarning: The frame.append method is deprecated and will be removed from pandas in a future version. Use pandas.concat instead.\n",
      "  aggregated_df = aggregated_df.append(aggregated_result, ignore_index=True)\n",
      "C:\\Users\\rankl\\AppData\\Local\\Temp\\ipykernel_19340\\89403381.py:24: FutureWarning: The frame.append method is deprecated and will be removed from pandas in a future version. Use pandas.concat instead.\n",
      "  aggregated_df = aggregated_df.append(aggregated_result, ignore_index=True)\n",
      "C:\\Users\\rankl\\AppData\\Local\\Temp\\ipykernel_19340\\89403381.py:24: FutureWarning: The frame.append method is deprecated and will be removed from pandas in a future version. Use pandas.concat instead.\n",
      "  aggregated_df = aggregated_df.append(aggregated_result, ignore_index=True)\n",
      "C:\\Users\\rankl\\AppData\\Local\\Temp\\ipykernel_19340\\89403381.py:24: FutureWarning: The frame.append method is deprecated and will be removed from pandas in a future version. Use pandas.concat instead.\n",
      "  aggregated_df = aggregated_df.append(aggregated_result, ignore_index=True)\n",
      "C:\\Users\\rankl\\AppData\\Local\\Temp\\ipykernel_19340\\89403381.py:24: FutureWarning: The frame.append method is deprecated and will be removed from pandas in a future version. Use pandas.concat instead.\n",
      "  aggregated_df = aggregated_df.append(aggregated_result, ignore_index=True)\n",
      "C:\\Users\\rankl\\AppData\\Local\\Temp\\ipykernel_19340\\89403381.py:24: FutureWarning: The frame.append method is deprecated and will be removed from pandas in a future version. Use pandas.concat instead.\n",
      "  aggregated_df = aggregated_df.append(aggregated_result, ignore_index=True)\n"
     ]
    }
   ],
   "source": [
    "data = {\n",
    "    'Edema': [5000, 15000],\n",
    "    'Cardiomegaly': [5000, 15000],\n",
    "    'Atelectasis': [5000, 15000]\n",
    "}\n",
    "\n",
    "index = ['0', '1']\n",
    "\n",
    "df = pd.DataFrame(data, index=index)\n",
    "aggregated_df = pd.DataFrame(columns=df.columns)\n",
    "aggregated_result = df.sum()\n",
    "aggregated_df = aggregated_df.append(aggregated_result, ignore_index=True)\n",
    "\n",
    "for col in df.columns:\n",
    "    current_freq = df.at['0', col]\n",
    "    while current_freq <= 15000:\n",
    "        current_freq += 5000\n",
    "        if current_freq > 15000:\n",
    "            continue\n",
    "        else:\n",
    "            df.at['0', col] = current_freq\n",
    "        \n",
    "        aggregated_result = df.sum()\n",
    "        aggregated_df = aggregated_df.append(aggregated_result, ignore_index=True)\n",
    "\n",
    "            \n",
    "\n",
    "# Print the aggregated results\n",
    "print(aggregated_df)\n",
    "\n",
    "# List to store data for each class\n",
    "#class_data = {col: [] for col in df.columns}\n",
    "class_data = [] #['classes']\n",
    "results = []\n",
    "# Iterate through each row in the aggregated DataFrame\n",
    "for index, row in aggregated_df.iterrows():\n",
    "    class_names = row.index\n",
    "    class_frequencies = row.values\n",
    "\n",
    "    # Iterate through each class and its frequency\n",
    "    for class_outer, frequency in zip(class_names, class_frequencies):\n",
    "        class_data.extend([class_names.get_loc(class_outer)] * int(frequency))\n",
    "\n",
    "    results.append(ib.imbalance_degree(class_data, distance=\"EU\"))\n",
    "    \n",
    "    class_data = []\n",
    "result_df = pd.DataFrame(data=results,columns=[\"ID\"])\n",
    "#result_df.to_excel('result_ID.xlsx', index=False)"
   ]
  },
  {
   "cell_type": "markdown",
   "metadata": {},
   "source": [
    "## Mean Imbalance ratio, Imbalance per label"
   ]
  },
  {
   "cell_type": "code",
   "execution_count": 16,
   "metadata": {},
   "outputs": [
    {
     "name": "stderr",
     "output_type": "stream",
     "text": [
      "C:\\Users\\rankl\\AppData\\Local\\Temp\\ipykernel_19340\\3322541807.py:13: FutureWarning: The frame.append method is deprecated and will be removed from pandas in a future version. Use pandas.concat instead.\n",
      "  aggregated_df = aggregated_df.append(aggregated_result, ignore_index=True)\n",
      "C:\\Users\\rankl\\AppData\\Local\\Temp\\ipykernel_19340\\3322541807.py:25: FutureWarning: The frame.append method is deprecated and will be removed from pandas in a future version. Use pandas.concat instead.\n",
      "  aggregated_df = aggregated_df.append(aggregated_result, ignore_index=True)\n",
      "C:\\Users\\rankl\\AppData\\Local\\Temp\\ipykernel_19340\\3322541807.py:25: FutureWarning: The frame.append method is deprecated and will be removed from pandas in a future version. Use pandas.concat instead.\n",
      "  aggregated_df = aggregated_df.append(aggregated_result, ignore_index=True)\n",
      "C:\\Users\\rankl\\AppData\\Local\\Temp\\ipykernel_19340\\3322541807.py:25: FutureWarning: The frame.append method is deprecated and will be removed from pandas in a future version. Use pandas.concat instead.\n",
      "  aggregated_df = aggregated_df.append(aggregated_result, ignore_index=True)\n",
      "C:\\Users\\rankl\\AppData\\Local\\Temp\\ipykernel_19340\\3322541807.py:25: FutureWarning: The frame.append method is deprecated and will be removed from pandas in a future version. Use pandas.concat instead.\n",
      "  aggregated_df = aggregated_df.append(aggregated_result, ignore_index=True)\n",
      "C:\\Users\\rankl\\AppData\\Local\\Temp\\ipykernel_19340\\3322541807.py:25: FutureWarning: The frame.append method is deprecated and will be removed from pandas in a future version. Use pandas.concat instead.\n",
      "  aggregated_df = aggregated_df.append(aggregated_result, ignore_index=True)\n",
      "C:\\Users\\rankl\\AppData\\Local\\Temp\\ipykernel_19340\\3322541807.py:25: FutureWarning: The frame.append method is deprecated and will be removed from pandas in a future version. Use pandas.concat instead.\n",
      "  aggregated_df = aggregated_df.append(aggregated_result, ignore_index=True)\n"
     ]
    },
    {
     "data": {
      "text/html": [
       "<div>\n",
       "<style scoped>\n",
       "    .dataframe tbody tr th:only-of-type {\n",
       "        vertical-align: middle;\n",
       "    }\n",
       "\n",
       "    .dataframe tbody tr th {\n",
       "        vertical-align: top;\n",
       "    }\n",
       "\n",
       "    .dataframe thead th {\n",
       "        text-align: right;\n",
       "    }\n",
       "</style>\n",
       "<table border=\"1\" class=\"dataframe\">\n",
       "  <thead>\n",
       "    <tr style=\"text-align: right;\">\n",
       "      <th></th>\n",
       "      <th>0</th>\n",
       "      <th>1</th>\n",
       "    </tr>\n",
       "  </thead>\n",
       "  <tbody>\n",
       "    <tr>\n",
       "      <th>0</th>\n",
       "      <td>[1.0, 1.0, 1.0]</td>\n",
       "      <td>1.000000</td>\n",
       "    </tr>\n",
       "    <tr>\n",
       "      <th>1</th>\n",
       "      <td>[1.0, 1.25, 1.25]</td>\n",
       "      <td>1.166667</td>\n",
       "    </tr>\n",
       "    <tr>\n",
       "      <th>2</th>\n",
       "      <td>[1.0, 1.5, 1.5]</td>\n",
       "      <td>1.333333</td>\n",
       "    </tr>\n",
       "    <tr>\n",
       "      <th>3</th>\n",
       "      <td>[1.0, 1.2, 1.5]</td>\n",
       "      <td>1.233333</td>\n",
       "    </tr>\n",
       "    <tr>\n",
       "      <th>4</th>\n",
       "      <td>[1.0, 1.0, 1.5]</td>\n",
       "      <td>1.166667</td>\n",
       "    </tr>\n",
       "    <tr>\n",
       "      <th>5</th>\n",
       "      <td>[1.0, 1.0, 1.2]</td>\n",
       "      <td>1.066667</td>\n",
       "    </tr>\n",
       "    <tr>\n",
       "      <th>6</th>\n",
       "      <td>[1.0, 1.0, 1.0]</td>\n",
       "      <td>1.000000</td>\n",
       "    </tr>\n",
       "  </tbody>\n",
       "</table>\n",
       "</div>"
      ],
      "text/plain": [
       "                   0         1\n",
       "0    [1.0, 1.0, 1.0]  1.000000\n",
       "1  [1.0, 1.25, 1.25]  1.166667\n",
       "2    [1.0, 1.5, 1.5]  1.333333\n",
       "3    [1.0, 1.2, 1.5]  1.233333\n",
       "4    [1.0, 1.0, 1.5]  1.166667\n",
       "5    [1.0, 1.0, 1.2]  1.066667\n",
       "6    [1.0, 1.0, 1.0]  1.000000"
      ]
     },
     "execution_count": 16,
     "metadata": {},
     "output_type": "execute_result"
    }
   ],
   "source": [
    "data = {\n",
    "    'Edema': [5000, 15000],\n",
    "    'Cardiomegaly': [5000, 15000],\n",
    "    'Atelectasis': [5000, 15000]\n",
    "}\n",
    "\n",
    "index = ['0', '1']\n",
    "\n",
    "df = pd.DataFrame(data, index=index)\n",
    "\n",
    "aggregated_df = pd.DataFrame(columns=df.columns)\n",
    "aggregated_result = df.sum()\n",
    "aggregated_df = aggregated_df.append(aggregated_result, ignore_index=True)\n",
    "\n",
    "\n",
    "for col in df.columns:\n",
    "    current_freq = df.at['0', col]\n",
    "    while current_freq <= 15000:\n",
    "        current_freq += 5000\n",
    "        if current_freq > 15000:\n",
    "            continue\n",
    "        else:\n",
    "            df.at['0', col] = current_freq\n",
    "        aggregated_result = df.sum()\n",
    "        aggregated_df = aggregated_df.append(aggregated_result, ignore_index=True)\n",
    "\n",
    "IRperLabel_values = []\n",
    "mean_IRpLabel = []\n",
    "for index, row in aggregated_df.iterrows():\n",
    "    output = max(row.values)/row.values\n",
    "    IRperLabel_values.append(output)\n",
    "    mean_IRpLabel.append(np.mean(output))\n",
    "        \n",
    "result_df = pd.DataFrame(data=zip(IRperLabel_values,mean_IRpLabel))\n",
    "result_df\n"
   ]
  },
  {
   "cell_type": "markdown",
   "metadata": {},
   "source": [
    "# Experiments 2 - 4: Random initialisation across three groups as input for IS"
   ]
  },
  {
   "cell_type": "code",
   "execution_count": 5,
   "metadata": {},
   "outputs": [],
   "source": [
    "# this initial data is used as input for IR, mIR, ID\n",
    "data = {\n",
    "    'Edema': [5000,10000,15000, 15000, 25000, 30000, 35000],\n",
    "    'Cardiomegaly': [2500,5000,7500, 10000, 12500, 15000, 17500],\n",
    "    'Atelectasis': [7500,12500,17500, 22500, 27500, 32500, 37500]\n",
    "}\n",
    "\n",
    "index = list(range(7))\n",
    "\n",
    "df_class_distributions = pd.DataFrame(data, index=index)\n",
    "\n",
    "# Print the transformed DataFrame\n",
    "df_class_distributions.to_clipboard()"
   ]
  },
  {
   "cell_type": "code",
   "execution_count": null,
   "metadata": {},
   "outputs": [],
   "source": [
    "excel_index = 1\n",
    "with pd.ExcelWriter('output_results_42.xlsx') as writer:\n",
    "\n",
    "    for index, row in df_class_distributions.iterrows():\n",
    "        # specify seed: in the experiments we use 2, 23, 42\n",
    "        np.random.seed(42)\n",
    "        new_df = pd.DataFrame([row], columns=df_class_distributions.columns, index=[0])\n",
    "        class_frequencies_np = np.array(row.values)\n",
    "\n",
    "\n",
    "        total_values = {col: value for col, value in new_df.iloc[0].items()}\n",
    "\n",
    "        num_groups = 3\n",
    "        groups = []\n",
    "        mean_value = class_frequencies_np / 3\n",
    "\n",
    "        remaining_values = class_frequencies_np.copy()\n",
    "        \n",
    "        group_values = {group_index: np.zeros_like(new_df.values[0]) for group_index in range(num_groups)}\n",
    "    \n",
    "        for group_index in range(num_groups - 1):\n",
    "            range_percentage = 0.45  # 30% around the mean\n",
    "            \n",
    "\n",
    "            lower_bound = mean_value * (1 - range_percentage)\n",
    "            upper_bound = mean_value * (1 + range_percentage)\n",
    "\n",
    "            group_row = np.random.randint(lower_bound, upper_bound + 1, size=num_groups)\n",
    "\n",
    "\n",
    "            values =  np.minimum(group_row, remaining_values)\n",
    "            group_values[group_index] = values\n",
    "            \n",
    "            remaining_values -= group_row\n",
    "            mean_value = remaining_values / (num_groups - (group_index + 1))\n",
    "\n",
    "        group_values[2] = remaining_values\n",
    "\n",
    "        # output to excel\n",
    "        # Create a new DataFrame with the split data and groups\n",
    "        result_df = pd.DataFrame(group_values, index=['Edema','Cardiomegaly','Atelectasis'])\n",
    "        result_df = result_df.T\n",
    "        result_df.to_excel(writer, sheet_name='Group_Sheet', startrow=excel_index, index=False)\n",
    "\n",
    "        \n",
    "        imbalance_score = mmult(result_df)\n",
    "        imbalance_score = imbalance_score.T\n",
    "        imbalance_score.to_excel(writer, sheet_name='Group_Sheet',startrow=excel_index, startcol=5, index=False)\n",
    "        excel_index +=20\n"
   ]
  }
 ],
 "metadata": {
  "kernelspec": {
   "display_name": "Python 3",
   "language": "python",
   "name": "python3"
  },
  "language_info": {
   "codemirror_mode": {
    "name": "ipython",
    "version": 3
   },
   "file_extension": ".py",
   "mimetype": "text/x-python",
   "name": "python",
   "nbconvert_exporter": "python",
   "pygments_lexer": "ipython3",
   "version": "3.10.4"
  },
  "orig_nbformat": 4
 },
 "nbformat": 4,
 "nbformat_minor": 2
}
